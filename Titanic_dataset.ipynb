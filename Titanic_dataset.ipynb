{
 "cells": [
  {
   "cell_type": "code",
   "execution_count": null,
   "id": "06a88d97",
   "metadata": {},
   "outputs": [],
   "source": []
  },
  {
   "cell_type": "code",
   "execution_count": 1,
   "id": "84147af0",
   "metadata": {},
   "outputs": [],
   "source": [
    "import pandas as pd\n",
    "import numpy as np \n",
    "import seaborn as sns\n",
    "import matplotlib.pyplot as plt\n"
   ]
  },
  {
   "cell_type": "code",
   "execution_count": 2,
   "id": "1e65a6fe",
   "metadata": {},
   "outputs": [
    {
     "data": {
      "text/html": [
       "<div>\n",
       "<style scoped>\n",
       "    .dataframe tbody tr th:only-of-type {\n",
       "        vertical-align: middle;\n",
       "    }\n",
       "\n",
       "    .dataframe tbody tr th {\n",
       "        vertical-align: top;\n",
       "    }\n",
       "\n",
       "    .dataframe thead th {\n",
       "        text-align: right;\n",
       "    }\n",
       "</style>\n",
       "<table border=\"1\" class=\"dataframe\">\n",
       "  <thead>\n",
       "    <tr style=\"text-align: right;\">\n",
       "      <th></th>\n",
       "      <th>PassengerId</th>\n",
       "      <th>Survived</th>\n",
       "      <th>Pclass</th>\n",
       "      <th>Name</th>\n",
       "      <th>Sex</th>\n",
       "      <th>Age</th>\n",
       "      <th>SibSp</th>\n",
       "      <th>Parch</th>\n",
       "      <th>Ticket</th>\n",
       "      <th>Fare</th>\n",
       "      <th>Cabin</th>\n",
       "      <th>Embarked</th>\n",
       "    </tr>\n",
       "  </thead>\n",
       "  <tbody>\n",
       "    <tr>\n",
       "      <th>0</th>\n",
       "      <td>1</td>\n",
       "      <td>0</td>\n",
       "      <td>3</td>\n",
       "      <td>Braund, Mr. Owen Harris</td>\n",
       "      <td>male</td>\n",
       "      <td>22.0</td>\n",
       "      <td>1</td>\n",
       "      <td>0</td>\n",
       "      <td>A/5 21171</td>\n",
       "      <td>7.2500</td>\n",
       "      <td>NaN</td>\n",
       "      <td>S</td>\n",
       "    </tr>\n",
       "    <tr>\n",
       "      <th>1</th>\n",
       "      <td>2</td>\n",
       "      <td>1</td>\n",
       "      <td>1</td>\n",
       "      <td>Cumings, Mrs. John Bradley (Florence Briggs Th...</td>\n",
       "      <td>female</td>\n",
       "      <td>38.0</td>\n",
       "      <td>1</td>\n",
       "      <td>0</td>\n",
       "      <td>PC 17599</td>\n",
       "      <td>71.2833</td>\n",
       "      <td>C85</td>\n",
       "      <td>C</td>\n",
       "    </tr>\n",
       "    <tr>\n",
       "      <th>2</th>\n",
       "      <td>3</td>\n",
       "      <td>1</td>\n",
       "      <td>3</td>\n",
       "      <td>Heikkinen, Miss. Laina</td>\n",
       "      <td>female</td>\n",
       "      <td>26.0</td>\n",
       "      <td>0</td>\n",
       "      <td>0</td>\n",
       "      <td>STON/O2. 3101282</td>\n",
       "      <td>7.9250</td>\n",
       "      <td>NaN</td>\n",
       "      <td>S</td>\n",
       "    </tr>\n",
       "    <tr>\n",
       "      <th>3</th>\n",
       "      <td>4</td>\n",
       "      <td>1</td>\n",
       "      <td>1</td>\n",
       "      <td>Futrelle, Mrs. Jacques Heath (Lily May Peel)</td>\n",
       "      <td>female</td>\n",
       "      <td>35.0</td>\n",
       "      <td>1</td>\n",
       "      <td>0</td>\n",
       "      <td>113803</td>\n",
       "      <td>53.1000</td>\n",
       "      <td>C123</td>\n",
       "      <td>S</td>\n",
       "    </tr>\n",
       "    <tr>\n",
       "      <th>4</th>\n",
       "      <td>5</td>\n",
       "      <td>0</td>\n",
       "      <td>3</td>\n",
       "      <td>Allen, Mr. William Henry</td>\n",
       "      <td>male</td>\n",
       "      <td>35.0</td>\n",
       "      <td>0</td>\n",
       "      <td>0</td>\n",
       "      <td>373450</td>\n",
       "      <td>8.0500</td>\n",
       "      <td>NaN</td>\n",
       "      <td>S</td>\n",
       "    </tr>\n",
       "    <tr>\n",
       "      <th>...</th>\n",
       "      <td>...</td>\n",
       "      <td>...</td>\n",
       "      <td>...</td>\n",
       "      <td>...</td>\n",
       "      <td>...</td>\n",
       "      <td>...</td>\n",
       "      <td>...</td>\n",
       "      <td>...</td>\n",
       "      <td>...</td>\n",
       "      <td>...</td>\n",
       "      <td>...</td>\n",
       "      <td>...</td>\n",
       "    </tr>\n",
       "    <tr>\n",
       "      <th>886</th>\n",
       "      <td>887</td>\n",
       "      <td>0</td>\n",
       "      <td>2</td>\n",
       "      <td>Montvila, Rev. Juozas</td>\n",
       "      <td>male</td>\n",
       "      <td>27.0</td>\n",
       "      <td>0</td>\n",
       "      <td>0</td>\n",
       "      <td>211536</td>\n",
       "      <td>13.0000</td>\n",
       "      <td>NaN</td>\n",
       "      <td>S</td>\n",
       "    </tr>\n",
       "    <tr>\n",
       "      <th>887</th>\n",
       "      <td>888</td>\n",
       "      <td>1</td>\n",
       "      <td>1</td>\n",
       "      <td>Graham, Miss. Margaret Edith</td>\n",
       "      <td>female</td>\n",
       "      <td>19.0</td>\n",
       "      <td>0</td>\n",
       "      <td>0</td>\n",
       "      <td>112053</td>\n",
       "      <td>30.0000</td>\n",
       "      <td>B42</td>\n",
       "      <td>S</td>\n",
       "    </tr>\n",
       "    <tr>\n",
       "      <th>888</th>\n",
       "      <td>889</td>\n",
       "      <td>0</td>\n",
       "      <td>3</td>\n",
       "      <td>Johnston, Miss. Catherine Helen \"Carrie\"</td>\n",
       "      <td>female</td>\n",
       "      <td>NaN</td>\n",
       "      <td>1</td>\n",
       "      <td>2</td>\n",
       "      <td>W./C. 6607</td>\n",
       "      <td>23.4500</td>\n",
       "      <td>NaN</td>\n",
       "      <td>S</td>\n",
       "    </tr>\n",
       "    <tr>\n",
       "      <th>889</th>\n",
       "      <td>890</td>\n",
       "      <td>1</td>\n",
       "      <td>1</td>\n",
       "      <td>Behr, Mr. Karl Howell</td>\n",
       "      <td>male</td>\n",
       "      <td>26.0</td>\n",
       "      <td>0</td>\n",
       "      <td>0</td>\n",
       "      <td>111369</td>\n",
       "      <td>30.0000</td>\n",
       "      <td>C148</td>\n",
       "      <td>C</td>\n",
       "    </tr>\n",
       "    <tr>\n",
       "      <th>890</th>\n",
       "      <td>891</td>\n",
       "      <td>0</td>\n",
       "      <td>3</td>\n",
       "      <td>Dooley, Mr. Patrick</td>\n",
       "      <td>male</td>\n",
       "      <td>32.0</td>\n",
       "      <td>0</td>\n",
       "      <td>0</td>\n",
       "      <td>370376</td>\n",
       "      <td>7.7500</td>\n",
       "      <td>NaN</td>\n",
       "      <td>Q</td>\n",
       "    </tr>\n",
       "  </tbody>\n",
       "</table>\n",
       "<p>891 rows × 12 columns</p>\n",
       "</div>"
      ],
      "text/plain": [
       "     PassengerId  Survived  Pclass  \\\n",
       "0              1         0       3   \n",
       "1              2         1       1   \n",
       "2              3         1       3   \n",
       "3              4         1       1   \n",
       "4              5         0       3   \n",
       "..           ...       ...     ...   \n",
       "886          887         0       2   \n",
       "887          888         1       1   \n",
       "888          889         0       3   \n",
       "889          890         1       1   \n",
       "890          891         0       3   \n",
       "\n",
       "                                                  Name     Sex   Age  SibSp  \\\n",
       "0                              Braund, Mr. Owen Harris    male  22.0      1   \n",
       "1    Cumings, Mrs. John Bradley (Florence Briggs Th...  female  38.0      1   \n",
       "2                               Heikkinen, Miss. Laina  female  26.0      0   \n",
       "3         Futrelle, Mrs. Jacques Heath (Lily May Peel)  female  35.0      1   \n",
       "4                             Allen, Mr. William Henry    male  35.0      0   \n",
       "..                                                 ...     ...   ...    ...   \n",
       "886                              Montvila, Rev. Juozas    male  27.0      0   \n",
       "887                       Graham, Miss. Margaret Edith  female  19.0      0   \n",
       "888           Johnston, Miss. Catherine Helen \"Carrie\"  female   NaN      1   \n",
       "889                              Behr, Mr. Karl Howell    male  26.0      0   \n",
       "890                                Dooley, Mr. Patrick    male  32.0      0   \n",
       "\n",
       "     Parch            Ticket     Fare Cabin Embarked  \n",
       "0        0         A/5 21171   7.2500   NaN        S  \n",
       "1        0          PC 17599  71.2833   C85        C  \n",
       "2        0  STON/O2. 3101282   7.9250   NaN        S  \n",
       "3        0            113803  53.1000  C123        S  \n",
       "4        0            373450   8.0500   NaN        S  \n",
       "..     ...               ...      ...   ...      ...  \n",
       "886      0            211536  13.0000   NaN        S  \n",
       "887      0            112053  30.0000   B42        S  \n",
       "888      2        W./C. 6607  23.4500   NaN        S  \n",
       "889      0            111369  30.0000  C148        C  \n",
       "890      0            370376   7.7500   NaN        Q  \n",
       "\n",
       "[891 rows x 12 columns]"
      ]
     },
     "execution_count": 2,
     "metadata": {},
     "output_type": "execute_result"
    }
   ],
   "source": [
    "# importing dataset\n",
    "df = pd.read_csv(r'C:\\Users\\DELL\\Downloads\\train.csv')\n",
    "df"
   ]
  },
  {
   "cell_type": "code",
   "execution_count": 3,
   "id": "6a0dd0af",
   "metadata": {},
   "outputs": [
    {
     "data": {
      "text/plain": [
       "(891, 12)"
      ]
     },
     "execution_count": 3,
     "metadata": {},
     "output_type": "execute_result"
    }
   ],
   "source": [
    "# shape\n",
    "df.shape"
   ]
  },
  {
   "cell_type": "code",
   "execution_count": 4,
   "id": "8b84d723",
   "metadata": {},
   "outputs": [
    {
     "data": {
      "text/html": [
       "<div>\n",
       "<style scoped>\n",
       "    .dataframe tbody tr th:only-of-type {\n",
       "        vertical-align: middle;\n",
       "    }\n",
       "\n",
       "    .dataframe tbody tr th {\n",
       "        vertical-align: top;\n",
       "    }\n",
       "\n",
       "    .dataframe thead th {\n",
       "        text-align: right;\n",
       "    }\n",
       "</style>\n",
       "<table border=\"1\" class=\"dataframe\">\n",
       "  <thead>\n",
       "    <tr style=\"text-align: right;\">\n",
       "      <th></th>\n",
       "      <th>PassengerId</th>\n",
       "      <th>Survived</th>\n",
       "      <th>Pclass</th>\n",
       "      <th>Name</th>\n",
       "      <th>Sex</th>\n",
       "      <th>Age</th>\n",
       "      <th>SibSp</th>\n",
       "      <th>Parch</th>\n",
       "      <th>Ticket</th>\n",
       "      <th>Fare</th>\n",
       "      <th>Cabin</th>\n",
       "      <th>Embarked</th>\n",
       "    </tr>\n",
       "  </thead>\n",
       "  <tbody>\n",
       "    <tr>\n",
       "      <th>0</th>\n",
       "      <td>1</td>\n",
       "      <td>0</td>\n",
       "      <td>3</td>\n",
       "      <td>Braund, Mr. Owen Harris</td>\n",
       "      <td>male</td>\n",
       "      <td>22.0</td>\n",
       "      <td>1</td>\n",
       "      <td>0</td>\n",
       "      <td>A/5 21171</td>\n",
       "      <td>7.2500</td>\n",
       "      <td>NaN</td>\n",
       "      <td>S</td>\n",
       "    </tr>\n",
       "    <tr>\n",
       "      <th>1</th>\n",
       "      <td>2</td>\n",
       "      <td>1</td>\n",
       "      <td>1</td>\n",
       "      <td>Cumings, Mrs. John Bradley (Florence Briggs Th...</td>\n",
       "      <td>female</td>\n",
       "      <td>38.0</td>\n",
       "      <td>1</td>\n",
       "      <td>0</td>\n",
       "      <td>PC 17599</td>\n",
       "      <td>71.2833</td>\n",
       "      <td>C85</td>\n",
       "      <td>C</td>\n",
       "    </tr>\n",
       "    <tr>\n",
       "      <th>2</th>\n",
       "      <td>3</td>\n",
       "      <td>1</td>\n",
       "      <td>3</td>\n",
       "      <td>Heikkinen, Miss. Laina</td>\n",
       "      <td>female</td>\n",
       "      <td>26.0</td>\n",
       "      <td>0</td>\n",
       "      <td>0</td>\n",
       "      <td>STON/O2. 3101282</td>\n",
       "      <td>7.9250</td>\n",
       "      <td>NaN</td>\n",
       "      <td>S</td>\n",
       "    </tr>\n",
       "    <tr>\n",
       "      <th>3</th>\n",
       "      <td>4</td>\n",
       "      <td>1</td>\n",
       "      <td>1</td>\n",
       "      <td>Futrelle, Mrs. Jacques Heath (Lily May Peel)</td>\n",
       "      <td>female</td>\n",
       "      <td>35.0</td>\n",
       "      <td>1</td>\n",
       "      <td>0</td>\n",
       "      <td>113803</td>\n",
       "      <td>53.1000</td>\n",
       "      <td>C123</td>\n",
       "      <td>S</td>\n",
       "    </tr>\n",
       "    <tr>\n",
       "      <th>4</th>\n",
       "      <td>5</td>\n",
       "      <td>0</td>\n",
       "      <td>3</td>\n",
       "      <td>Allen, Mr. William Henry</td>\n",
       "      <td>male</td>\n",
       "      <td>35.0</td>\n",
       "      <td>0</td>\n",
       "      <td>0</td>\n",
       "      <td>373450</td>\n",
       "      <td>8.0500</td>\n",
       "      <td>NaN</td>\n",
       "      <td>S</td>\n",
       "    </tr>\n",
       "  </tbody>\n",
       "</table>\n",
       "</div>"
      ],
      "text/plain": [
       "   PassengerId  Survived  Pclass  \\\n",
       "0            1         0       3   \n",
       "1            2         1       1   \n",
       "2            3         1       3   \n",
       "3            4         1       1   \n",
       "4            5         0       3   \n",
       "\n",
       "                                                Name     Sex   Age  SibSp  \\\n",
       "0                            Braund, Mr. Owen Harris    male  22.0      1   \n",
       "1  Cumings, Mrs. John Bradley (Florence Briggs Th...  female  38.0      1   \n",
       "2                             Heikkinen, Miss. Laina  female  26.0      0   \n",
       "3       Futrelle, Mrs. Jacques Heath (Lily May Peel)  female  35.0      1   \n",
       "4                           Allen, Mr. William Henry    male  35.0      0   \n",
       "\n",
       "   Parch            Ticket     Fare Cabin Embarked  \n",
       "0      0         A/5 21171   7.2500   NaN        S  \n",
       "1      0          PC 17599  71.2833   C85        C  \n",
       "2      0  STON/O2. 3101282   7.9250   NaN        S  \n",
       "3      0            113803  53.1000  C123        S  \n",
       "4      0            373450   8.0500   NaN        S  "
      ]
     },
     "execution_count": 4,
     "metadata": {},
     "output_type": "execute_result"
    }
   ],
   "source": [
    "df.head()"
   ]
  },
  {
   "cell_type": "code",
   "execution_count": 5,
   "id": "5a0d5de8",
   "metadata": {},
   "outputs": [
    {
     "data": {
      "text/plain": [
       "array(['PassengerId', 'Survived', 'Pclass', 'Name', 'Sex', 'Age', 'SibSp',\n",
       "       'Parch', 'Ticket', 'Fare', 'Cabin', 'Embarked'], dtype=object)"
      ]
     },
     "execution_count": 5,
     "metadata": {},
     "output_type": "execute_result"
    }
   ],
   "source": [
    "# Listing down the columns\n",
    "df.columns.values"
   ]
  },
  {
   "cell_type": "code",
   "execution_count": null,
   "id": "17273862",
   "metadata": {},
   "outputs": [],
   "source": []
  },
  {
   "cell_type": "markdown",
   "id": "f61478da",
   "metadata": {},
   "source": [
    "# Categorical columns\n",
    "\n",
    " . Survived\n",
    " . Pclass\n",
    " . Sex\n",
    " . SibSp\n",
    " . Parch\n",
    " . Embarked\n",
    "\n",
    "\n",
    "# Numerical columns\n",
    "\n",
    " . Age\n",
    " . Fare\n",
    " . Passengerid\n",
    "\n",
    "\n",
    "# Mixed columns\n",
    "\n",
    " . Name\n",
    " . Ticket\n",
    " . Cabin"
   ]
  },
  {
   "cell_type": "code",
   "execution_count": 6,
   "id": "05e6ff10",
   "metadata": {},
   "outputs": [
    {
     "name": "stdout",
     "output_type": "stream",
     "text": [
      "<class 'pandas.core.frame.DataFrame'>\n",
      "RangeIndex: 891 entries, 0 to 890\n",
      "Data columns (total 12 columns):\n",
      " #   Column       Non-Null Count  Dtype  \n",
      "---  ------       --------------  -----  \n",
      " 0   PassengerId  891 non-null    int64  \n",
      " 1   Survived     891 non-null    int64  \n",
      " 2   Pclass       891 non-null    int64  \n",
      " 3   Name         891 non-null    object \n",
      " 4   Sex          891 non-null    object \n",
      " 5   Age          714 non-null    float64\n",
      " 6   SibSp        891 non-null    int64  \n",
      " 7   Parch        891 non-null    int64  \n",
      " 8   Ticket       891 non-null    object \n",
      " 9   Fare         891 non-null    float64\n",
      " 10  Cabin        204 non-null    object \n",
      " 11  Embarked     889 non-null    object \n",
      "dtypes: float64(2), int64(5), object(5)\n",
      "memory usage: 83.7+ KB\n"
     ]
    }
   ],
   "source": [
    "df.info()"
   ]
  },
  {
   "cell_type": "code",
   "execution_count": 7,
   "id": "20267d6c",
   "metadata": {},
   "outputs": [
    {
     "data": {
      "text/plain": [
       "PassengerId      0\n",
       "Survived         0\n",
       "Pclass           0\n",
       "Name             0\n",
       "Sex              0\n",
       "Age            177\n",
       "SibSp            0\n",
       "Parch            0\n",
       "Ticket           0\n",
       "Fare             0\n",
       "Cabin          687\n",
       "Embarked         2\n",
       "dtype: int64"
      ]
     },
     "execution_count": 7,
     "metadata": {},
     "output_type": "execute_result"
    }
   ],
   "source": [
    "df.isnull().sum()"
   ]
  },
  {
   "cell_type": "code",
   "execution_count": 8,
   "id": "7bf7eaaa",
   "metadata": {},
   "outputs": [],
   "source": [
    "# Few conclusions \n",
    "#1. Missing vlaues in Age, Cabin and Embarked columns\n",
    "#2. More than 70 percent values are missing in cabin columns, will have to drop\n",
    "#3. Few columns have inappropriate data types"
   ]
  },
  {
   "cell_type": "code",
   "execution_count": 9,
   "id": "8695b61f",
   "metadata": {},
   "outputs": [],
   "source": [
    "# Dropping cabin column \n",
    "df.drop(columns=['Cabin'],inplace=True)"
   ]
  },
  {
   "cell_type": "code",
   "execution_count": 10,
   "id": "eba3eccd",
   "metadata": {},
   "outputs": [],
   "source": [
    "# Imputting missing value for age \n",
    "# Strategy - mean\n",
    "\n",
    "df['Age'].fillna(df['Age'].mean(),inplace=True)"
   ]
  },
  {
   "cell_type": "code",
   "execution_count": 11,
   "id": "dc11a98a",
   "metadata": {},
   "outputs": [],
   "source": [
    "# Imputtind missing values for embarked \n",
    "# findind the most appeared value in embarked column\n",
    "\n",
    "df['Embarked'].value_counts()\n",
    "\n",
    "# S it is\n",
    "df['Embarked'].fillna('S', inplace=True)"
   ]
  },
  {
   "cell_type": "code",
   "execution_count": 12,
   "id": "e44ee638",
   "metadata": {},
   "outputs": [
    {
     "data": {
      "text/plain": [
       "0    608\n",
       "1    209\n",
       "2     28\n",
       "4     18\n",
       "3     16\n",
       "8      7\n",
       "5      5\n",
       "Name: SibSp, dtype: int64"
      ]
     },
     "execution_count": 12,
     "metadata": {},
     "output_type": "execute_result"
    }
   ],
   "source": [
    "df['SibSp'].value_counts()"
   ]
  },
  {
   "cell_type": "code",
   "execution_count": 13,
   "id": "69db9e60",
   "metadata": {},
   "outputs": [
    {
     "data": {
      "text/plain": [
       "0    678\n",
       "1    118\n",
       "2     80\n",
       "5      5\n",
       "3      5\n",
       "4      4\n",
       "6      1\n",
       "Name: Parch, dtype: int64"
      ]
     },
     "execution_count": 13,
     "metadata": {},
     "output_type": "execute_result"
    }
   ],
   "source": [
    "df['Parch'].value_counts()"
   ]
  },
  {
   "cell_type": "code",
   "execution_count": 14,
   "id": "b0480528",
   "metadata": {},
   "outputs": [],
   "source": [
    "df['Survived']=df['Survived'].astype('category')\n",
    "df['Pclass']=df['Pclass'].astype('category')\n",
    "df['Sex']=df['Sex'].astype('category')\n",
    "df['Age']=df['Age'].astype('int')\n",
    "df['Embarked']=df['Embarked'].astype('category')"
   ]
  },
  {
   "cell_type": "code",
   "execution_count": 15,
   "id": "47863c6a",
   "metadata": {},
   "outputs": [
    {
     "name": "stdout",
     "output_type": "stream",
     "text": [
      "<class 'pandas.core.frame.DataFrame'>\n",
      "RangeIndex: 891 entries, 0 to 890\n",
      "Data columns (total 11 columns):\n",
      " #   Column       Non-Null Count  Dtype   \n",
      "---  ------       --------------  -----   \n",
      " 0   PassengerId  891 non-null    int64   \n",
      " 1   Survived     891 non-null    category\n",
      " 2   Pclass       891 non-null    category\n",
      " 3   Name         891 non-null    object  \n",
      " 4   Sex          891 non-null    category\n",
      " 5   Age          891 non-null    int32   \n",
      " 6   SibSp        891 non-null    int64   \n",
      " 7   Parch        891 non-null    int64   \n",
      " 8   Ticket       891 non-null    object  \n",
      " 9   Fare         891 non-null    float64 \n",
      " 10  Embarked     891 non-null    category\n",
      "dtypes: category(4), float64(1), int32(1), int64(3), object(2)\n",
      "memory usage: 49.4+ KB\n"
     ]
    }
   ],
   "source": [
    "df.info()"
   ]
  },
  {
   "cell_type": "code",
   "execution_count": 16,
   "id": "18226d5a",
   "metadata": {},
   "outputs": [
    {
     "data": {
      "text/html": [
       "<div>\n",
       "<style scoped>\n",
       "    .dataframe tbody tr th:only-of-type {\n",
       "        vertical-align: middle;\n",
       "    }\n",
       "\n",
       "    .dataframe tbody tr th {\n",
       "        vertical-align: top;\n",
       "    }\n",
       "\n",
       "    .dataframe thead th {\n",
       "        text-align: right;\n",
       "    }\n",
       "</style>\n",
       "<table border=\"1\" class=\"dataframe\">\n",
       "  <thead>\n",
       "    <tr style=\"text-align: right;\">\n",
       "      <th></th>\n",
       "      <th>PassengerId</th>\n",
       "      <th>Age</th>\n",
       "      <th>SibSp</th>\n",
       "      <th>Parch</th>\n",
       "      <th>Fare</th>\n",
       "    </tr>\n",
       "  </thead>\n",
       "  <tbody>\n",
       "    <tr>\n",
       "      <th>count</th>\n",
       "      <td>891.000000</td>\n",
       "      <td>891.000000</td>\n",
       "      <td>891.000000</td>\n",
       "      <td>891.000000</td>\n",
       "      <td>891.000000</td>\n",
       "    </tr>\n",
       "    <tr>\n",
       "      <th>mean</th>\n",
       "      <td>446.000000</td>\n",
       "      <td>29.544332</td>\n",
       "      <td>0.523008</td>\n",
       "      <td>0.381594</td>\n",
       "      <td>32.204208</td>\n",
       "    </tr>\n",
       "    <tr>\n",
       "      <th>std</th>\n",
       "      <td>257.353842</td>\n",
       "      <td>13.013778</td>\n",
       "      <td>1.102743</td>\n",
       "      <td>0.806057</td>\n",
       "      <td>49.693429</td>\n",
       "    </tr>\n",
       "    <tr>\n",
       "      <th>min</th>\n",
       "      <td>1.000000</td>\n",
       "      <td>0.000000</td>\n",
       "      <td>0.000000</td>\n",
       "      <td>0.000000</td>\n",
       "      <td>0.000000</td>\n",
       "    </tr>\n",
       "    <tr>\n",
       "      <th>25%</th>\n",
       "      <td>223.500000</td>\n",
       "      <td>22.000000</td>\n",
       "      <td>0.000000</td>\n",
       "      <td>0.000000</td>\n",
       "      <td>7.910400</td>\n",
       "    </tr>\n",
       "    <tr>\n",
       "      <th>50%</th>\n",
       "      <td>446.000000</td>\n",
       "      <td>29.000000</td>\n",
       "      <td>0.000000</td>\n",
       "      <td>0.000000</td>\n",
       "      <td>14.454200</td>\n",
       "    </tr>\n",
       "    <tr>\n",
       "      <th>75%</th>\n",
       "      <td>668.500000</td>\n",
       "      <td>35.000000</td>\n",
       "      <td>1.000000</td>\n",
       "      <td>0.000000</td>\n",
       "      <td>31.000000</td>\n",
       "    </tr>\n",
       "    <tr>\n",
       "      <th>max</th>\n",
       "      <td>891.000000</td>\n",
       "      <td>80.000000</td>\n",
       "      <td>8.000000</td>\n",
       "      <td>6.000000</td>\n",
       "      <td>512.329200</td>\n",
       "    </tr>\n",
       "  </tbody>\n",
       "</table>\n",
       "</div>"
      ],
      "text/plain": [
       "       PassengerId         Age       SibSp       Parch        Fare\n",
       "count   891.000000  891.000000  891.000000  891.000000  891.000000\n",
       "mean    446.000000   29.544332    0.523008    0.381594   32.204208\n",
       "std     257.353842   13.013778    1.102743    0.806057   49.693429\n",
       "min       1.000000    0.000000    0.000000    0.000000    0.000000\n",
       "25%     223.500000   22.000000    0.000000    0.000000    7.910400\n",
       "50%     446.000000   29.000000    0.000000    0.000000   14.454200\n",
       "75%     668.500000   35.000000    1.000000    0.000000   31.000000\n",
       "max     891.000000   80.000000    8.000000    6.000000  512.329200"
      ]
     },
     "execution_count": 16,
     "metadata": {},
     "output_type": "execute_result"
    }
   ],
   "source": [
    "# Five point Summary\n",
    "df.describe()"
   ]
  },
  {
   "cell_type": "code",
   "execution_count": 17,
   "id": "bf1c88b0",
   "metadata": {},
   "outputs": [
    {
     "name": "stdout",
     "output_type": "stream",
     "text": [
      "minimum value of Age is 0 and maximum value of Age is 80\n",
      "minimum value of SibSp is 0 and maximum value of SibSp is 8\n",
      "minimum value of Parch is 0 and maximum value of Parch is 6\n",
      "minimum value of Fare is 0.0 and maximum value of Fare is 512.3292\n"
     ]
    }
   ],
   "source": [
    "for col in ['Age','SibSp','Parch','Fare']:\n",
    "  min_val, max_val = df[col].min(), df[col].max()\n",
    "\n",
    "  print(f'minimum value of {col} is {min_val} and maximum value of {col} is {max_val}')"
   ]
  },
  {
   "cell_type": "code",
   "execution_count": 18,
   "id": "4f42003e",
   "metadata": {},
   "outputs": [
    {
     "name": "stdout",
     "output_type": "stream",
     "text": [
      "unique values/classes in SibSp are [1 0 3 4 2 5 8]\n",
      "unique values/classes in Parch are [0 1 2 5 3 4 6]\n",
      "unique values/classes in Pclass are [3, 1, 2]\n",
      "Categories (3, int64): [1, 2, 3]\n",
      "unique values/classes in Sex are ['male', 'female']\n",
      "Categories (2, object): ['female', 'male']\n",
      "unique values/classes in Embarked are ['S', 'C', 'Q']\n",
      "Categories (3, object): ['C', 'Q', 'S']\n"
     ]
    }
   ],
   "source": [
    "for col in ['SibSp','Parch','Pclass','Sex','Embarked']:\n",
    "  vals = df[col].unique()\n",
    "\n",
    "  print(f'unique values/classes in {col} are {vals}')"
   ]
  },
  {
   "cell_type": "code",
   "execution_count": null,
   "id": "5ec62123",
   "metadata": {},
   "outputs": [],
   "source": []
  },
  {
   "cell_type": "code",
   "execution_count": null,
   "id": "c9c80bc3",
   "metadata": {},
   "outputs": [],
   "source": []
  },
  {
   "cell_type": "markdown",
   "id": "ce4727bc",
   "metadata": {},
   "source": [
    "# Univariate Analysis"
   ]
  },
  {
   "cell_type": "code",
   "execution_count": 7,
   "id": "389d7ef5",
   "metadata": {},
   "outputs": [
    {
     "name": "stdout",
     "output_type": "stream",
     "text": [
      "out of 891 62 percent people died in the accident\n"
     ]
    },
    {
     "data": {
      "image/png": "[encoded data removed]",
      "text/plain": [
       "<Figure size 432x288 with 1 Axes>"
      ]
     },
     "metadata": {
      "needs_background": "light"
     },
     "output_type": "display_data"
    }
   ],
   "source": [
    "sns.countplot(df['Survived'])\n",
    "death_percent = round((df['Survived'].value_counts().values[0]/891)*100)\n",
    "print(\"out of 891 {} percent people died in the accident\".format(death_percent))"
   ]
  },
  {
   "cell_type": "code",
   "execution_count": 8,
   "id": "832a7690",
   "metadata": {},
   "outputs": [
    {
     "data": {
      "text/plain": [
       "<AxesSubplot: ylabel='Survived'>"
      ]
     },
     "execution_count": 8,
     "metadata": {},
     "output_type": "execute_result"
    },
    {
     "data": {
      "image/png": "[encoded data removed]",
      "text/plain": [
       "<Figure size 432x288 with 1 Axes>"
      ]
     },
     "metadata": {},
     "output_type": "display_data"
    }
   ],
   "source": [
    "df['Survived'].value_counts().plot(kind='pie', autopct='%.2f')"
   ]
  },
  {
   "cell_type": "code",
   "execution_count": 20,
   "id": "487a1b36",
   "metadata": {},
   "outputs": [
    {
     "data": {
      "text/plain": [
       "0    549\n",
       "1    342\n",
       "Name: Survived, dtype: int64"
      ]
     },
     "execution_count": 20,
     "metadata": {},
     "output_type": "execute_result"
    },
    {
     "data": {
      "image/png": "[encoded data removed]",
      "text/plain": [
       "<Figure size 432x288 with 1 Axes>"
      ]
     },
     "metadata": {
      "needs_background": "light"
     },
     "output_type": "display_data"
    }
   ],
   "source": [
    "\n",
    "df.Survived.value_counts().plot(kind='bar')\n",
    "df.Survived.value_counts()"
   ]
  },
  {
   "cell_type": "code",
   "execution_count": 21,
   "id": "84481b07",
   "metadata": {},
   "outputs": [
    {
     "name": "stdout",
     "output_type": "stream",
     "text": [
      "3    55.106622\n",
      "1    24.242424\n",
      "2    20.650954\n",
      "Name: Pclass, dtype: float64\n"
     ]
    },
    {
     "data": {
      "text/plain": [
       "<AxesSubplot: ylabel='count'>"
      ]
     },
     "execution_count": 21,
     "metadata": {},
     "output_type": "execute_result"
    },
    {
     "data": {
      "image/png": "[encoded data removed]",
      "text/plain": [
       "<Figure size 432x288 with 1 Axes>"
      ]
     },
     "metadata": {
      "needs_background": "light"
     },
     "output_type": "display_data"
    }
   ],
   "source": [
    "# Pclass column\n",
    "print((df['Pclass'].value_counts()/891)*100)\n",
    "\n",
    "sns.countplot(df['Pclass'])"
   ]
  },
  {
   "cell_type": "code",
   "execution_count": 22,
   "id": "957a6152",
   "metadata": {},
   "outputs": [
    {
     "name": "stderr",
     "output_type": "stream",
     "text": [
      "C:\\Users\\DELL\\AppData\\Local\\Temp\\ipykernel_5848\\2904690667.py:1: UserWarning: \n",
      "\n",
      "`distplot` is a deprecated function and will be removed in seaborn v0.14.0.\n",
      "\n",
      "Please adapt your code to use either `displot` (a figure-level function with\n",
      "similar flexibility) or `histplot` (an axes-level function for histograms).\n",
      "\n",
      "For a guide to updating your code to use the new functions, please see\n",
      "https://gist.github.com/mwaskom/de44147ed2974457ad6372750bbe5751\n",
      "\n",
      "  sns.distplot(df.Pclass)\n"
     ]
    },
    {
     "data": {
      "text/plain": [
       "<AxesSubplot: xlabel='Pclass', ylabel='Density'>"
      ]
     },
     "execution_count": 22,
     "metadata": {},
     "output_type": "execute_result"
    },
    {
     "data": {
      "image/png": "[encoded data removed]",
      "text/plain": [
       "<Figure size 432x288 with 1 Axes>"
      ]
     },
     "metadata": {
      "needs_background": "light"
     },
     "output_type": "display_data"
    }
   ],
   "source": [
    "sns.distplot(df.Pclass)"
   ]
  },
  {
   "cell_type": "code",
   "execution_count": 23,
   "id": "d28f794c",
   "metadata": {},
   "outputs": [
    {
     "name": "stdout",
     "output_type": "stream",
     "text": [
      "male      64.758698\n",
      "female    35.241302\n",
      "Name: Sex, dtype: float64\n"
     ]
    },
    {
     "data": {
      "text/plain": [
       "<AxesSubplot: ylabel='count'>"
      ]
     },
     "execution_count": 23,
     "metadata": {},
     "output_type": "execute_result"
    },
    {
     "data": {
      "image/png": "[encoded data removed]",
      "text/plain": [
       "<Figure size 432x288 with 1 Axes>"
      ]
     },
     "metadata": {
      "needs_background": "light"
     },
     "output_type": "display_data"
    }
   ],
   "source": [
    "# for Gender\n",
    "print((df['Sex'].value_counts()/891)*100)\n",
    "sns.countplot(df['Sex'].value_counts())"
   ]
  },
  {
   "cell_type": "code",
   "execution_count": 24,
   "id": "f3720cbc",
   "metadata": {},
   "outputs": [
    {
     "data": {
      "text/plain": [
       "male      577\n",
       "female    314\n",
       "Name: Sex, dtype: int64"
      ]
     },
     "execution_count": 24,
     "metadata": {},
     "output_type": "execute_result"
    },
    {
     "data": {
      "image/png": "[encoded data removed]",
      "text/plain": [
       "<Figure size 432x288 with 1 Axes>"
      ]
     },
     "metadata": {
      "needs_background": "light"
     },
     "output_type": "display_data"
    }
   ],
   "source": [
    "df.Sex.value_counts().plot(kind='bar')\n",
    "df.Sex.value_counts()"
   ]
  },
  {
   "cell_type": "code",
   "execution_count": 25,
   "id": "6d38b222",
   "metadata": {},
   "outputs": [
    {
     "name": "stdout",
     "output_type": "stream",
     "text": [
      "0    608\n",
      "1    209\n",
      "2     28\n",
      "4     18\n",
      "3     16\n",
      "8      7\n",
      "5      5\n",
      "Name: SibSp, dtype: int64\n"
     ]
    },
    {
     "data": {
      "text/plain": [
       "<AxesSubplot: ylabel='count'>"
      ]
     },
     "execution_count": 25,
     "metadata": {},
     "output_type": "execute_result"
    },
    {
     "data": {
      "image/png": "[encoded data removed]",
      "text/plain": [
       "<Figure size 432x288 with 1 Axes>"
      ]
     },
     "metadata": {
      "needs_background": "light"
     },
     "output_type": "display_data"
    }
   ],
   "source": [
    "print(df['SibSp'].value_counts())\n",
    "\n",
    "sns.countplot(df['SibSp'])"
   ]
  },
  {
   "cell_type": "code",
   "execution_count": 26,
   "id": "f35e4517",
   "metadata": {},
   "outputs": [
    {
     "name": "stderr",
     "output_type": "stream",
     "text": [
      "C:\\Users\\DELL\\AppData\\Local\\Temp\\ipykernel_5848\\1634579339.py:1: UserWarning: \n",
      "\n",
      "`distplot` is a deprecated function and will be removed in seaborn v0.14.0.\n",
      "\n",
      "Please adapt your code to use either `displot` (a figure-level function with\n",
      "similar flexibility) or `histplot` (an axes-level function for histograms).\n",
      "\n",
      "For a guide to updating your code to use the new functions, please see\n",
      "https://gist.github.com/mwaskom/de44147ed2974457ad6372750bbe5751\n",
      "\n",
      "  sns.distplot(df['SibSp'])\n"
     ]
    },
    {
     "data": {
      "text/plain": [
       "<AxesSubplot: xlabel='SibSp', ylabel='Density'>"
      ]
     },
     "execution_count": 26,
     "metadata": {},
     "output_type": "execute_result"
    },
    {
     "data": {
      "image/png": "[encoded data removed]",
      "text/plain": [
       "<Figure size 432x288 with 1 Axes>"
      ]
     },
     "metadata": {
      "needs_background": "light"
     },
     "output_type": "display_data"
    }
   ],
   "source": [
    "sns.distplot(df['SibSp'])"
   ]
  },
  {
   "cell_type": "code",
   "execution_count": 27,
   "id": "ab5d0d9f",
   "metadata": {},
   "outputs": [
    {
     "name": "stdout",
     "output_type": "stream",
     "text": [
      "0    76.094276\n",
      "1    13.243547\n",
      "2     8.978676\n",
      "5     0.561167\n",
      "3     0.561167\n",
      "4     0.448934\n",
      "6     0.112233\n",
      "Name: Parch, dtype: float64\n"
     ]
    },
    {
     "data": {
      "text/plain": [
       "<AxesSubplot: ylabel='count'>"
      ]
     },
     "execution_count": 27,
     "metadata": {},
     "output_type": "execute_result"
    },
    {
     "data": {
      "image/png": "[encoded data removed]",
      "text/plain": [
       "<Figure size 432x288 with 1 Axes>"
      ]
     },
     "metadata": {
      "needs_background": "light"
     },
     "output_type": "display_data"
    }
   ],
   "source": [
    "print((df['Parch'].value_counts()/891)*100)\n",
    "\n",
    "sns.countplot(df['Parch'])"
   ]
  },
  {
   "cell_type": "code",
   "execution_count": 28,
   "id": "bc2b7346",
   "metadata": {},
   "outputs": [
    {
     "name": "stderr",
     "output_type": "stream",
     "text": [
      "C:\\Users\\DELL\\AppData\\Local\\Temp\\ipykernel_5848\\63704092.py:1: UserWarning: \n",
      "\n",
      "`distplot` is a deprecated function and will be removed in seaborn v0.14.0.\n",
      "\n",
      "Please adapt your code to use either `displot` (a figure-level function with\n",
      "similar flexibility) or `histplot` (an axes-level function for histograms).\n",
      "\n",
      "For a guide to updating your code to use the new functions, please see\n",
      "https://gist.github.com/mwaskom/de44147ed2974457ad6372750bbe5751\n",
      "\n",
      "  sns.distplot(df['Parch'])\n"
     ]
    },
    {
     "data": {
      "text/plain": [
       "<AxesSubplot: xlabel='Parch', ylabel='Density'>"
      ]
     },
     "execution_count": 28,
     "metadata": {},
     "output_type": "execute_result"
    },
    {
     "data": {
      "image/png": "[encoded data removed]",
      "text/plain": [
       "<Figure size 432x288 with 1 Axes>"
      ]
     },
     "metadata": {
      "needs_background": "light"
     },
     "output_type": "display_data"
    }
   ],
   "source": [
    "sns.distplot(df['Parch'])"
   ]
  },
  {
   "cell_type": "code",
   "execution_count": 29,
   "id": "aae4b339",
   "metadata": {},
   "outputs": [
    {
     "name": "stdout",
     "output_type": "stream",
     "text": [
      "S    72.502806\n",
      "C    18.855219\n",
      "Q     8.641975\n",
      "Name: Embarked, dtype: float64\n"
     ]
    },
    {
     "data": {
      "text/plain": [
       "<AxesSubplot: ylabel='count'>"
      ]
     },
     "execution_count": 29,
     "metadata": {},
     "output_type": "execute_result"
    },
    {
     "data": {
      "image/png": "[encoded data removed]",
      "text/plain": [
       "<Figure size 432x288 with 1 Axes>"
      ]
     },
     "metadata": {
      "needs_background": "light"
     },
     "output_type": "display_data"
    }
   ],
   "source": [
    "print((df['Embarked'].value_counts()/891)*100)\n",
    "\n",
    "sns.countplot(df['Embarked'].value_counts())"
   ]
  },
  {
   "cell_type": "code",
   "execution_count": 30,
   "id": "edf2ada6",
   "metadata": {},
   "outputs": [
    {
     "name": "stderr",
     "output_type": "stream",
     "text": [
      "C:\\Users\\DELL\\AppData\\Local\\Temp\\ipykernel_5848\\2094239408.py:1: UserWarning: \n",
      "\n",
      "`distplot` is a deprecated function and will be removed in seaborn v0.14.0.\n",
      "\n",
      "Please adapt your code to use either `displot` (a figure-level function with\n",
      "similar flexibility) or `histplot` (an axes-level function for histograms).\n",
      "\n",
      "For a guide to updating your code to use the new functions, please see\n",
      "https://gist.github.com/mwaskom/de44147ed2974457ad6372750bbe5751\n",
      "\n",
      "  sns.distplot(df['Embarked'].value_counts())\n"
     ]
    },
    {
     "data": {
      "text/plain": [
       "<AxesSubplot: xlabel='Embarked', ylabel='Density'>"
      ]
     },
     "execution_count": 30,
     "metadata": {},
     "output_type": "execute_result"
    },
    {
     "data": {
      "image/png": "[encoded data removed]",
      "text/plain": [
       "<Figure size 432x288 with 1 Axes>"
      ]
     },
     "metadata": {
      "needs_background": "light"
     },
     "output_type": "display_data"
    }
   ],
   "source": [
    "sns.distplot(df['Embarked'].value_counts())"
   ]
  },
  {
   "cell_type": "code",
   "execution_count": 31,
   "id": "d1f9b033",
   "metadata": {},
   "outputs": [
    {
     "name": "stderr",
     "output_type": "stream",
     "text": [
      "C:\\Users\\DELL\\AppData\\Local\\Temp\\ipykernel_5848\\178786589.py:2: UserWarning: \n",
      "\n",
      "`distplot` is a deprecated function and will be removed in seaborn v0.14.0.\n",
      "\n",
      "Please adapt your code to use either `displot` (a figure-level function with\n",
      "similar flexibility) or `histplot` (an axes-level function for histograms).\n",
      "\n",
      "For a guide to updating your code to use the new functions, please see\n",
      "https://gist.github.com/mwaskom/de44147ed2974457ad6372750bbe5751\n",
      "\n",
      "  sns.distplot(df['Age'])\n"
     ]
    },
    {
     "data": {
      "text/plain": [
       "<AxesSubplot: xlabel='Age', ylabel='Density'>"
      ]
     },
     "execution_count": 31,
     "metadata": {},
     "output_type": "execute_result"
    },
    {
     "data": {
      "image/png": "[encoded data removed]",
      "text/plain": [
       "<Figure size 432x288 with 1 Axes>"
      ]
     },
     "metadata": {
      "needs_background": "light"
     },
     "output_type": "display_data"
    }
   ],
   "source": [
    "# Age column\n",
    "sns.distplot(df['Age'])"
   ]
  },
  {
   "cell_type": "code",
   "execution_count": 32,
   "id": "ebfb710c",
   "metadata": {},
   "outputs": [
    {
     "data": {
      "text/plain": [
       "<AxesSubplot: >"
      ]
     },
     "execution_count": 32,
     "metadata": {},
     "output_type": "execute_result"
    },
    {
     "data": {
      "image/png": "[encoded data removed]",
      "text/plain": [
       "<Figure size 432x288 with 1 Axes>"
      ]
     },
     "metadata": {
      "needs_background": "light"
     },
     "output_type": "display_data"
    }
   ],
   "source": [
    "sns.boxplot(df['Age'])"
   ]
  },
  {
   "cell_type": "code",
   "execution_count": 33,
   "id": "6c134541",
   "metadata": {},
   "outputs": [
    {
     "name": "stdout",
     "output_type": "stream",
     "text": [
      "People with age in between 60 and 70 are 15\n",
      "People with age greater than 70 and 75 are 6\n",
      "People with age greater than 75 are 1\n",
      "People with age between 0 and 1 7\n"
     ]
    }
   ],
   "source": [
    "print(\"People with age in between 60 and 70 are\",df[(df['Age']>60)& (df['Age']<70)].shape[0])\n",
    "print(\"People with age greater than 70 and 75 are\",df[(df['Age']>=70)& (df['Age']<=75)].shape[0])\n",
    "print(\"People with age greater than 75 are\",df[df['Age']>75].shape[0])\n",
    "\n",
    "print('People with age between 0 and 1',df[df['Age']<1].shape[0])"
   ]
  },
  {
   "cell_type": "code",
   "execution_count": 34,
   "id": "f07a3fad",
   "metadata": {},
   "outputs": [
    {
     "name": "stderr",
     "output_type": "stream",
     "text": [
      "C:\\Users\\DELL\\AppData\\Local\\Temp\\ipykernel_5848\\2942046018.py:2: UserWarning: \n",
      "\n",
      "`distplot` is a deprecated function and will be removed in seaborn v0.14.0.\n",
      "\n",
      "Please adapt your code to use either `displot` (a figure-level function with\n",
      "similar flexibility) or `histplot` (an axes-level function for histograms).\n",
      "\n",
      "For a guide to updating your code to use the new functions, please see\n",
      "https://gist.github.com/mwaskom/de44147ed2974457ad6372750bbe5751\n",
      "\n",
      "  sns.distplot(df['Fare'])\n"
     ]
    },
    {
     "data": {
      "text/plain": [
       "<AxesSubplot: xlabel='Fare', ylabel='Density'>"
      ]
     },
     "execution_count": 34,
     "metadata": {},
     "output_type": "execute_result"
    },
    {
     "data": {
      "image/png": "[encoded data removed]",
      "text/plain": [
       "<Figure size 432x288 with 1 Axes>"
      ]
     },
     "metadata": {
      "needs_background": "light"
     },
     "output_type": "display_data"
    }
   ],
   "source": [
    "# Fare column\n",
    "sns.distplot(df['Fare'])"
   ]
  },
  {
   "cell_type": "code",
   "execution_count": 35,
   "id": "cdf09d31",
   "metadata": {},
   "outputs": [
    {
     "name": "stdout",
     "output_type": "stream",
     "text": [
      "4.787316519674893\n",
      "33.39814088089868\n"
     ]
    }
   ],
   "source": [
    "print(df['Fare'].skew())\n",
    "print(df['Fare'].kurt())"
   ]
  },
  {
   "cell_type": "code",
   "execution_count": 36,
   "id": "86ae8636",
   "metadata": {},
   "outputs": [
    {
     "data": {
      "text/plain": [
       "<AxesSubplot: >"
      ]
     },
     "execution_count": 36,
     "metadata": {},
     "output_type": "execute_result"
    },
    {
     "data": {
      "image/png": "[encoded data removed]",
      "text/plain": [
       "<Figure size 432x288 with 1 Axes>"
      ]
     },
     "metadata": {
      "needs_background": "light"
     },
     "output_type": "display_data"
    }
   ],
   "source": [
    "sns.boxplot(df['Fare'])"
   ]
  },
  {
   "cell_type": "code",
   "execution_count": 37,
   "id": "8b63fb6b",
   "metadata": {},
   "outputs": [
    {
     "name": "stdout",
     "output_type": "stream",
     "text": [
      "People with fare in between $200 and $300 17\n",
      "People with fare n greater than $300 3\n"
     ]
    }
   ],
   "source": [
    "print(\"People with fare in between $200 and $300\", df[(df['Fare']>200)&(df['Fare']<300)].shape[0])\n",
    "print(\"People with fare n greater than $300\",df[df['Fare']>300].shape[0])"
   ]
  },
  {
   "cell_type": "markdown",
   "id": "78f35271",
   "metadata": {},
   "source": [
    "# Conclusion\n",
    "\n",
    "## Highly skewed data, a lot of people had cheaper tickets\n",
    "## Outliers are there in the data"
   ]
  },
  {
   "cell_type": "code",
   "execution_count": 38,
   "id": "ac7f3378",
   "metadata": {},
   "outputs": [
    {
     "data": {
      "text/plain": [
       "<AxesSubplot: xlabel='Sex', ylabel='Fare'>"
      ]
     },
     "execution_count": 38,
     "metadata": {},
     "output_type": "execute_result"
    },
    {
     "data": {
      "image/png": "[encoded data removed]",
      "text/plain": [
       "<Figure size 1440x1080 with 1 Axes>"
      ]
     },
     "metadata": {
      "needs_background": "light"
     },
     "output_type": "display_data"
    }
   ],
   "source": [
    "# Bivariate analysis\n",
    "\n",
    "# Fare with Sex \n",
    "plt.figure(figsize=(20,15))\n",
    "sns.boxplot(x='Sex', y='Fare', data=df)"
   ]
  },
  {
   "cell_type": "code",
   "execution_count": 39,
   "id": "f927f57a",
   "metadata": {},
   "outputs": [
    {
     "data": {
      "text/html": [
       "<div>\n",
       "<style scoped>\n",
       "    .dataframe tbody tr th:only-of-type {\n",
       "        vertical-align: middle;\n",
       "    }\n",
       "\n",
       "    .dataframe tbody tr th {\n",
       "        vertical-align: top;\n",
       "    }\n",
       "\n",
       "    .dataframe thead th {\n",
       "        text-align: right;\n",
       "    }\n",
       "</style>\n",
       "<table border=\"1\" class=\"dataframe\">\n",
       "  <thead>\n",
       "    <tr style=\"text-align: right;\">\n",
       "      <th>Fare</th>\n",
       "      <th>0.0000</th>\n",
       "      <th>4.0125</th>\n",
       "      <th>5.0000</th>\n",
       "      <th>6.2375</th>\n",
       "      <th>6.4375</th>\n",
       "      <th>6.4500</th>\n",
       "      <th>6.4958</th>\n",
       "      <th>6.7500</th>\n",
       "      <th>6.8583</th>\n",
       "      <th>6.9500</th>\n",
       "      <th>...</th>\n",
       "      <th>153.4625</th>\n",
       "      <th>164.8667</th>\n",
       "      <th>211.3375</th>\n",
       "      <th>211.5000</th>\n",
       "      <th>221.7792</th>\n",
       "      <th>227.5250</th>\n",
       "      <th>247.5208</th>\n",
       "      <th>262.3750</th>\n",
       "      <th>263.0000</th>\n",
       "      <th>512.3292</th>\n",
       "    </tr>\n",
       "    <tr>\n",
       "      <th>Embarked</th>\n",
       "      <th></th>\n",
       "      <th></th>\n",
       "      <th></th>\n",
       "      <th></th>\n",
       "      <th></th>\n",
       "      <th></th>\n",
       "      <th></th>\n",
       "      <th></th>\n",
       "      <th></th>\n",
       "      <th></th>\n",
       "      <th></th>\n",
       "      <th></th>\n",
       "      <th></th>\n",
       "      <th></th>\n",
       "      <th></th>\n",
       "      <th></th>\n",
       "      <th></th>\n",
       "      <th></th>\n",
       "      <th></th>\n",
       "      <th></th>\n",
       "      <th></th>\n",
       "    </tr>\n",
       "  </thead>\n",
       "  <tbody>\n",
       "    <tr>\n",
       "      <th>C</th>\n",
       "      <td>0.0</td>\n",
       "      <td>0.6</td>\n",
       "      <td>0.0</td>\n",
       "      <td>0.0</td>\n",
       "      <td>0.6</td>\n",
       "      <td>0.0</td>\n",
       "      <td>0.0</td>\n",
       "      <td>0.0</td>\n",
       "      <td>0.0</td>\n",
       "      <td>0.0</td>\n",
       "      <td>...</td>\n",
       "      <td>0.0</td>\n",
       "      <td>0.0</td>\n",
       "      <td>0.0</td>\n",
       "      <td>0.6</td>\n",
       "      <td>0.0</td>\n",
       "      <td>2.4</td>\n",
       "      <td>1.2</td>\n",
       "      <td>1.2</td>\n",
       "      <td>0.0</td>\n",
       "      <td>1.8</td>\n",
       "    </tr>\n",
       "    <tr>\n",
       "      <th>Q</th>\n",
       "      <td>0.0</td>\n",
       "      <td>0.0</td>\n",
       "      <td>0.0</td>\n",
       "      <td>0.0</td>\n",
       "      <td>0.0</td>\n",
       "      <td>0.0</td>\n",
       "      <td>0.0</td>\n",
       "      <td>2.6</td>\n",
       "      <td>1.3</td>\n",
       "      <td>1.3</td>\n",
       "      <td>...</td>\n",
       "      <td>0.0</td>\n",
       "      <td>0.0</td>\n",
       "      <td>0.0</td>\n",
       "      <td>0.0</td>\n",
       "      <td>0.0</td>\n",
       "      <td>0.0</td>\n",
       "      <td>0.0</td>\n",
       "      <td>0.0</td>\n",
       "      <td>0.0</td>\n",
       "      <td>0.0</td>\n",
       "    </tr>\n",
       "    <tr>\n",
       "      <th>S</th>\n",
       "      <td>2.3</td>\n",
       "      <td>0.0</td>\n",
       "      <td>0.2</td>\n",
       "      <td>0.2</td>\n",
       "      <td>0.0</td>\n",
       "      <td>0.2</td>\n",
       "      <td>0.3</td>\n",
       "      <td>0.0</td>\n",
       "      <td>0.0</td>\n",
       "      <td>0.0</td>\n",
       "      <td>...</td>\n",
       "      <td>0.5</td>\n",
       "      <td>0.3</td>\n",
       "      <td>0.5</td>\n",
       "      <td>0.0</td>\n",
       "      <td>0.2</td>\n",
       "      <td>0.0</td>\n",
       "      <td>0.0</td>\n",
       "      <td>0.0</td>\n",
       "      <td>0.6</td>\n",
       "      <td>0.0</td>\n",
       "    </tr>\n",
       "  </tbody>\n",
       "</table>\n",
       "<p>3 rows × 248 columns</p>\n",
       "</div>"
      ],
      "text/plain": [
       "Fare      0.0000    4.0125    5.0000    6.2375    6.4375    6.4500    \\\n",
       "Embarked                                                               \n",
       "C              0.0       0.6       0.0       0.0       0.6       0.0   \n",
       "Q              0.0       0.0       0.0       0.0       0.0       0.0   \n",
       "S              2.3       0.0       0.2       0.2       0.0       0.2   \n",
       "\n",
       "Fare      6.4958    6.7500    6.8583    6.9500    ...  153.4625  164.8667  \\\n",
       "Embarked                                          ...                       \n",
       "C              0.0       0.0       0.0       0.0  ...       0.0       0.0   \n",
       "Q              0.0       2.6       1.3       1.3  ...       0.0       0.0   \n",
       "S              0.3       0.0       0.0       0.0  ...       0.5       0.3   \n",
       "\n",
       "Fare      211.3375  211.5000  221.7792  227.5250  247.5208  262.3750  \\\n",
       "Embarked                                                               \n",
       "C              0.0       0.6       0.0       2.4       1.2       1.2   \n",
       "Q              0.0       0.0       0.0       0.0       0.0       0.0   \n",
       "S              0.5       0.0       0.2       0.0       0.0       0.0   \n",
       "\n",
       "Fare      263.0000  512.3292  \n",
       "Embarked                      \n",
       "C              0.0       1.8  \n",
       "Q              0.0       0.0  \n",
       "S              0.6       0.0  \n",
       "\n",
       "[3 rows x 248 columns]"
      ]
     },
     "execution_count": 39,
     "metadata": {},
     "output_type": "execute_result"
    },
    {
     "data": {
      "image/png": "[encoded data removed]",
      "text/plain": [
       "<Figure size 1440x1080 with 1 Axes>"
      ]
     },
     "metadata": {
      "needs_background": "light"
     },
     "output_type": "display_data"
    }
   ],
   "source": [
    "# Fare with Embarked\n",
    "plt.figure(figsize=(20,15))\n",
    "sns.boxplot(x='Embarked', y='Fare', data=df)\n",
    "\n",
    "pd.crosstab(df['Embarked'],df['Fare']).apply(lambda r: round((r/r.sum())*100,1), axis =1)"
   ]
  },
  {
   "cell_type": "code",
   "execution_count": null,
   "id": "576213dd",
   "metadata": {},
   "outputs": [],
   "source": []
  },
  {
   "cell_type": "code",
   "execution_count": 40,
   "id": "18586884",
   "metadata": {},
   "outputs": [
    {
     "data": {
      "text/html": [
       "<div>\n",
       "<style scoped>\n",
       "    .dataframe tbody tr th:only-of-type {\n",
       "        vertical-align: middle;\n",
       "    }\n",
       "\n",
       "    .dataframe tbody tr th {\n",
       "        vertical-align: top;\n",
       "    }\n",
       "\n",
       "    .dataframe thead th {\n",
       "        text-align: right;\n",
       "    }\n",
       "</style>\n",
       "<table border=\"1\" class=\"dataframe\">\n",
       "  <thead>\n",
       "    <tr style=\"text-align: right;\">\n",
       "      <th>Fare</th>\n",
       "      <th>0.0000</th>\n",
       "      <th>4.0125</th>\n",
       "      <th>5.0000</th>\n",
       "      <th>6.2375</th>\n",
       "      <th>6.4375</th>\n",
       "      <th>6.4500</th>\n",
       "      <th>6.4958</th>\n",
       "      <th>6.7500</th>\n",
       "      <th>6.8583</th>\n",
       "      <th>6.9500</th>\n",
       "      <th>...</th>\n",
       "      <th>153.4625</th>\n",
       "      <th>164.8667</th>\n",
       "      <th>211.3375</th>\n",
       "      <th>211.5000</th>\n",
       "      <th>221.7792</th>\n",
       "      <th>227.5250</th>\n",
       "      <th>247.5208</th>\n",
       "      <th>262.3750</th>\n",
       "      <th>263.0000</th>\n",
       "      <th>512.3292</th>\n",
       "    </tr>\n",
       "    <tr>\n",
       "      <th>Survived</th>\n",
       "      <th></th>\n",
       "      <th></th>\n",
       "      <th></th>\n",
       "      <th></th>\n",
       "      <th></th>\n",
       "      <th></th>\n",
       "      <th></th>\n",
       "      <th></th>\n",
       "      <th></th>\n",
       "      <th></th>\n",
       "      <th></th>\n",
       "      <th></th>\n",
       "      <th></th>\n",
       "      <th></th>\n",
       "      <th></th>\n",
       "      <th></th>\n",
       "      <th></th>\n",
       "      <th></th>\n",
       "      <th></th>\n",
       "      <th></th>\n",
       "      <th></th>\n",
       "    </tr>\n",
       "  </thead>\n",
       "  <tbody>\n",
       "    <tr>\n",
       "      <th>0</th>\n",
       "      <td>2.6</td>\n",
       "      <td>0.2</td>\n",
       "      <td>0.2</td>\n",
       "      <td>0.2</td>\n",
       "      <td>0.2</td>\n",
       "      <td>0.2</td>\n",
       "      <td>0.4</td>\n",
       "      <td>0.4</td>\n",
       "      <td>0.2</td>\n",
       "      <td>0.2</td>\n",
       "      <td>...</td>\n",
       "      <td>0.2</td>\n",
       "      <td>0.0</td>\n",
       "      <td>0.0</td>\n",
       "      <td>0.2</td>\n",
       "      <td>0.2</td>\n",
       "      <td>0.2</td>\n",
       "      <td>0.2</td>\n",
       "      <td>0.0</td>\n",
       "      <td>0.4</td>\n",
       "      <td>0.0</td>\n",
       "    </tr>\n",
       "    <tr>\n",
       "      <th>1</th>\n",
       "      <td>0.3</td>\n",
       "      <td>0.0</td>\n",
       "      <td>0.0</td>\n",
       "      <td>0.0</td>\n",
       "      <td>0.0</td>\n",
       "      <td>0.0</td>\n",
       "      <td>0.0</td>\n",
       "      <td>0.0</td>\n",
       "      <td>0.0</td>\n",
       "      <td>0.0</td>\n",
       "      <td>...</td>\n",
       "      <td>0.6</td>\n",
       "      <td>0.6</td>\n",
       "      <td>0.9</td>\n",
       "      <td>0.0</td>\n",
       "      <td>0.0</td>\n",
       "      <td>0.9</td>\n",
       "      <td>0.3</td>\n",
       "      <td>0.6</td>\n",
       "      <td>0.6</td>\n",
       "      <td>0.9</td>\n",
       "    </tr>\n",
       "  </tbody>\n",
       "</table>\n",
       "<p>2 rows × 248 columns</p>\n",
       "</div>"
      ],
      "text/plain": [
       "Fare      0.0000    4.0125    5.0000    6.2375    6.4375    6.4500    \\\n",
       "Survived                                                               \n",
       "0              2.6       0.2       0.2       0.2       0.2       0.2   \n",
       "1              0.3       0.0       0.0       0.0       0.0       0.0   \n",
       "\n",
       "Fare      6.4958    6.7500    6.8583    6.9500    ...  153.4625  164.8667  \\\n",
       "Survived                                          ...                       \n",
       "0              0.4       0.4       0.2       0.2  ...       0.2       0.0   \n",
       "1              0.0       0.0       0.0       0.0  ...       0.6       0.6   \n",
       "\n",
       "Fare      211.3375  211.5000  221.7792  227.5250  247.5208  262.3750  \\\n",
       "Survived                                                               \n",
       "0              0.0       0.2       0.2       0.2       0.2       0.0   \n",
       "1              0.9       0.0       0.0       0.9       0.3       0.6   \n",
       "\n",
       "Fare      263.0000  512.3292  \n",
       "Survived                      \n",
       "0              0.4       0.0  \n",
       "1              0.6       0.9  \n",
       "\n",
       "[2 rows x 248 columns]"
      ]
     },
     "execution_count": 40,
     "metadata": {},
     "output_type": "execute_result"
    },
    {
     "data": {
      "image/png": "[encoded data removed]",
      "text/plain": [
       "<Figure size 1440x1080 with 1 Axes>"
      ]
     },
     "metadata": {
      "needs_background": "light"
     },
     "output_type": "display_data"
    }
   ],
   "source": [
    "# Fare with Survived\n",
    "plt.figure(figsize=(20,15))\n",
    "sns.boxplot(x='Survived', y='Fare', data=df)\n",
    "\n",
    "pd.crosstab(df['Survived'],df['Fare']).apply(lambda r: round((r/r.sum())*100,1), axis =1)"
   ]
  },
  {
   "cell_type": "code",
   "execution_count": 41,
   "id": "c6874249",
   "metadata": {},
   "outputs": [
    {
     "data": {
      "text/html": [
       "<div>\n",
       "<style scoped>\n",
       "    .dataframe tbody tr th:only-of-type {\n",
       "        vertical-align: middle;\n",
       "    }\n",
       "\n",
       "    .dataframe tbody tr th {\n",
       "        vertical-align: top;\n",
       "    }\n",
       "\n",
       "    .dataframe thead th {\n",
       "        text-align: right;\n",
       "    }\n",
       "</style>\n",
       "<table border=\"1\" class=\"dataframe\">\n",
       "  <thead>\n",
       "    <tr style=\"text-align: right;\">\n",
       "      <th>Fare</th>\n",
       "      <th>0.0000</th>\n",
       "      <th>4.0125</th>\n",
       "      <th>5.0000</th>\n",
       "      <th>6.2375</th>\n",
       "      <th>6.4375</th>\n",
       "      <th>6.4500</th>\n",
       "      <th>6.4958</th>\n",
       "      <th>6.7500</th>\n",
       "      <th>6.8583</th>\n",
       "      <th>6.9500</th>\n",
       "      <th>...</th>\n",
       "      <th>153.4625</th>\n",
       "      <th>164.8667</th>\n",
       "      <th>211.3375</th>\n",
       "      <th>211.5000</th>\n",
       "      <th>221.7792</th>\n",
       "      <th>227.5250</th>\n",
       "      <th>247.5208</th>\n",
       "      <th>262.3750</th>\n",
       "      <th>263.0000</th>\n",
       "      <th>512.3292</th>\n",
       "    </tr>\n",
       "    <tr>\n",
       "      <th>Pclass</th>\n",
       "      <th></th>\n",
       "      <th></th>\n",
       "      <th></th>\n",
       "      <th></th>\n",
       "      <th></th>\n",
       "      <th></th>\n",
       "      <th></th>\n",
       "      <th></th>\n",
       "      <th></th>\n",
       "      <th></th>\n",
       "      <th></th>\n",
       "      <th></th>\n",
       "      <th></th>\n",
       "      <th></th>\n",
       "      <th></th>\n",
       "      <th></th>\n",
       "      <th></th>\n",
       "      <th></th>\n",
       "      <th></th>\n",
       "      <th></th>\n",
       "      <th></th>\n",
       "    </tr>\n",
       "  </thead>\n",
       "  <tbody>\n",
       "    <tr>\n",
       "      <th>1</th>\n",
       "      <td>2.3</td>\n",
       "      <td>0.0</td>\n",
       "      <td>0.5</td>\n",
       "      <td>0.0</td>\n",
       "      <td>0.0</td>\n",
       "      <td>0.0</td>\n",
       "      <td>0.0</td>\n",
       "      <td>0.0</td>\n",
       "      <td>0.0</td>\n",
       "      <td>0.0</td>\n",
       "      <td>...</td>\n",
       "      <td>1.4</td>\n",
       "      <td>0.9</td>\n",
       "      <td>1.4</td>\n",
       "      <td>0.5</td>\n",
       "      <td>0.5</td>\n",
       "      <td>1.9</td>\n",
       "      <td>0.9</td>\n",
       "      <td>0.9</td>\n",
       "      <td>1.9</td>\n",
       "      <td>1.4</td>\n",
       "    </tr>\n",
       "    <tr>\n",
       "      <th>2</th>\n",
       "      <td>3.3</td>\n",
       "      <td>0.0</td>\n",
       "      <td>0.0</td>\n",
       "      <td>0.0</td>\n",
       "      <td>0.0</td>\n",
       "      <td>0.0</td>\n",
       "      <td>0.0</td>\n",
       "      <td>0.0</td>\n",
       "      <td>0.0</td>\n",
       "      <td>0.0</td>\n",
       "      <td>...</td>\n",
       "      <td>0.0</td>\n",
       "      <td>0.0</td>\n",
       "      <td>0.0</td>\n",
       "      <td>0.0</td>\n",
       "      <td>0.0</td>\n",
       "      <td>0.0</td>\n",
       "      <td>0.0</td>\n",
       "      <td>0.0</td>\n",
       "      <td>0.0</td>\n",
       "      <td>0.0</td>\n",
       "    </tr>\n",
       "    <tr>\n",
       "      <th>3</th>\n",
       "      <td>0.8</td>\n",
       "      <td>0.2</td>\n",
       "      <td>0.0</td>\n",
       "      <td>0.2</td>\n",
       "      <td>0.2</td>\n",
       "      <td>0.2</td>\n",
       "      <td>0.4</td>\n",
       "      <td>0.4</td>\n",
       "      <td>0.2</td>\n",
       "      <td>0.2</td>\n",
       "      <td>...</td>\n",
       "      <td>0.0</td>\n",
       "      <td>0.0</td>\n",
       "      <td>0.0</td>\n",
       "      <td>0.0</td>\n",
       "      <td>0.0</td>\n",
       "      <td>0.0</td>\n",
       "      <td>0.0</td>\n",
       "      <td>0.0</td>\n",
       "      <td>0.0</td>\n",
       "      <td>0.0</td>\n",
       "    </tr>\n",
       "  </tbody>\n",
       "</table>\n",
       "<p>3 rows × 248 columns</p>\n",
       "</div>"
      ],
      "text/plain": [
       "Fare    0.0000    4.0125    5.0000    6.2375    6.4375    6.4500    6.4958    \\\n",
       "Pclass                                                                         \n",
       "1            2.3       0.0       0.5       0.0       0.0       0.0       0.0   \n",
       "2            3.3       0.0       0.0       0.0       0.0       0.0       0.0   \n",
       "3            0.8       0.2       0.0       0.2       0.2       0.2       0.4   \n",
       "\n",
       "Fare    6.7500    6.8583    6.9500    ...  153.4625  164.8667  211.3375  \\\n",
       "Pclass                                ...                                 \n",
       "1            0.0       0.0       0.0  ...       1.4       0.9       1.4   \n",
       "2            0.0       0.0       0.0  ...       0.0       0.0       0.0   \n",
       "3            0.4       0.2       0.2  ...       0.0       0.0       0.0   \n",
       "\n",
       "Fare    211.5000  221.7792  227.5250  247.5208  262.3750  263.0000  512.3292  \n",
       "Pclass                                                                        \n",
       "1            0.5       0.5       1.9       0.9       0.9       1.9       1.4  \n",
       "2            0.0       0.0       0.0       0.0       0.0       0.0       0.0  \n",
       "3            0.0       0.0       0.0       0.0       0.0       0.0       0.0  \n",
       "\n",
       "[3 rows x 248 columns]"
      ]
     },
     "execution_count": 41,
     "metadata": {},
     "output_type": "execute_result"
    },
    {
     "data": {
      "image/png": "[encoded data removed]",
      "text/plain": [
       "<Figure size 1440x1080 with 1 Axes>"
      ]
     },
     "metadata": {
      "needs_background": "light"
     },
     "output_type": "display_data"
    }
   ],
   "source": [
    "# Fare with Pclass\n",
    "plt.figure(figsize=(20,15))\n",
    "sns.boxplot(x='Pclass', y='Fare', data=df)\n",
    "\n",
    "pd.crosstab(df['Pclass'],df['Fare']).apply(lambda r: round((r/r.sum())*100,1), axis =1)"
   ]
  },
  {
   "cell_type": "code",
   "execution_count": 42,
   "id": "49c51aac",
   "metadata": {},
   "outputs": [
    {
     "data": {
      "text/html": [
       "<div>\n",
       "<style scoped>\n",
       "    .dataframe tbody tr th:only-of-type {\n",
       "        vertical-align: middle;\n",
       "    }\n",
       "\n",
       "    .dataframe tbody tr th {\n",
       "        vertical-align: top;\n",
       "    }\n",
       "\n",
       "    .dataframe thead th {\n",
       "        text-align: right;\n",
       "    }\n",
       "</style>\n",
       "<table border=\"1\" class=\"dataframe\">\n",
       "  <thead>\n",
       "    <tr style=\"text-align: right;\">\n",
       "      <th>Fare</th>\n",
       "      <th>0.0000</th>\n",
       "      <th>4.0125</th>\n",
       "      <th>5.0000</th>\n",
       "      <th>6.2375</th>\n",
       "      <th>6.4375</th>\n",
       "      <th>6.4500</th>\n",
       "      <th>6.4958</th>\n",
       "      <th>6.7500</th>\n",
       "      <th>6.8583</th>\n",
       "      <th>6.9500</th>\n",
       "      <th>...</th>\n",
       "      <th>153.4625</th>\n",
       "      <th>164.8667</th>\n",
       "      <th>211.3375</th>\n",
       "      <th>211.5000</th>\n",
       "      <th>221.7792</th>\n",
       "      <th>227.5250</th>\n",
       "      <th>247.5208</th>\n",
       "      <th>262.3750</th>\n",
       "      <th>263.0000</th>\n",
       "      <th>512.3292</th>\n",
       "    </tr>\n",
       "    <tr>\n",
       "      <th>Parch</th>\n",
       "      <th></th>\n",
       "      <th></th>\n",
       "      <th></th>\n",
       "      <th></th>\n",
       "      <th></th>\n",
       "      <th></th>\n",
       "      <th></th>\n",
       "      <th></th>\n",
       "      <th></th>\n",
       "      <th></th>\n",
       "      <th></th>\n",
       "      <th></th>\n",
       "      <th></th>\n",
       "      <th></th>\n",
       "      <th></th>\n",
       "      <th></th>\n",
       "      <th></th>\n",
       "      <th></th>\n",
       "      <th></th>\n",
       "      <th></th>\n",
       "      <th></th>\n",
       "    </tr>\n",
       "  </thead>\n",
       "  <tbody>\n",
       "    <tr>\n",
       "      <th>0</th>\n",
       "      <td>2.2</td>\n",
       "      <td>0.1</td>\n",
       "      <td>0.1</td>\n",
       "      <td>0.1</td>\n",
       "      <td>0.1</td>\n",
       "      <td>0.1</td>\n",
       "      <td>0.3</td>\n",
       "      <td>0.3</td>\n",
       "      <td>0.1</td>\n",
       "      <td>0.1</td>\n",
       "      <td>...</td>\n",
       "      <td>0.1</td>\n",
       "      <td>0.0</td>\n",
       "      <td>0.1</td>\n",
       "      <td>0.0</td>\n",
       "      <td>0.1</td>\n",
       "      <td>0.6</td>\n",
       "      <td>0.0</td>\n",
       "      <td>0.0</td>\n",
       "      <td>0.0</td>\n",
       "      <td>0.3</td>\n",
       "    </tr>\n",
       "    <tr>\n",
       "      <th>1</th>\n",
       "      <td>0.0</td>\n",
       "      <td>0.0</td>\n",
       "      <td>0.0</td>\n",
       "      <td>0.0</td>\n",
       "      <td>0.0</td>\n",
       "      <td>0.0</td>\n",
       "      <td>0.0</td>\n",
       "      <td>0.0</td>\n",
       "      <td>0.0</td>\n",
       "      <td>0.0</td>\n",
       "      <td>...</td>\n",
       "      <td>1.7</td>\n",
       "      <td>0.8</td>\n",
       "      <td>1.7</td>\n",
       "      <td>0.0</td>\n",
       "      <td>0.0</td>\n",
       "      <td>0.0</td>\n",
       "      <td>1.7</td>\n",
       "      <td>0.0</td>\n",
       "      <td>0.0</td>\n",
       "      <td>0.8</td>\n",
       "    </tr>\n",
       "    <tr>\n",
       "      <th>2</th>\n",
       "      <td>0.0</td>\n",
       "      <td>0.0</td>\n",
       "      <td>0.0</td>\n",
       "      <td>0.0</td>\n",
       "      <td>0.0</td>\n",
       "      <td>0.0</td>\n",
       "      <td>0.0</td>\n",
       "      <td>0.0</td>\n",
       "      <td>0.0</td>\n",
       "      <td>0.0</td>\n",
       "      <td>...</td>\n",
       "      <td>0.0</td>\n",
       "      <td>1.2</td>\n",
       "      <td>0.0</td>\n",
       "      <td>1.2</td>\n",
       "      <td>0.0</td>\n",
       "      <td>0.0</td>\n",
       "      <td>0.0</td>\n",
       "      <td>2.5</td>\n",
       "      <td>3.8</td>\n",
       "      <td>0.0</td>\n",
       "    </tr>\n",
       "    <tr>\n",
       "      <th>3</th>\n",
       "      <td>0.0</td>\n",
       "      <td>0.0</td>\n",
       "      <td>0.0</td>\n",
       "      <td>0.0</td>\n",
       "      <td>0.0</td>\n",
       "      <td>0.0</td>\n",
       "      <td>0.0</td>\n",
       "      <td>0.0</td>\n",
       "      <td>0.0</td>\n",
       "      <td>0.0</td>\n",
       "      <td>...</td>\n",
       "      <td>0.0</td>\n",
       "      <td>0.0</td>\n",
       "      <td>0.0</td>\n",
       "      <td>0.0</td>\n",
       "      <td>0.0</td>\n",
       "      <td>0.0</td>\n",
       "      <td>0.0</td>\n",
       "      <td>0.0</td>\n",
       "      <td>0.0</td>\n",
       "      <td>0.0</td>\n",
       "    </tr>\n",
       "    <tr>\n",
       "      <th>4</th>\n",
       "      <td>0.0</td>\n",
       "      <td>0.0</td>\n",
       "      <td>0.0</td>\n",
       "      <td>0.0</td>\n",
       "      <td>0.0</td>\n",
       "      <td>0.0</td>\n",
       "      <td>0.0</td>\n",
       "      <td>0.0</td>\n",
       "      <td>0.0</td>\n",
       "      <td>0.0</td>\n",
       "      <td>...</td>\n",
       "      <td>0.0</td>\n",
       "      <td>0.0</td>\n",
       "      <td>0.0</td>\n",
       "      <td>0.0</td>\n",
       "      <td>0.0</td>\n",
       "      <td>0.0</td>\n",
       "      <td>0.0</td>\n",
       "      <td>0.0</td>\n",
       "      <td>25.0</td>\n",
       "      <td>0.0</td>\n",
       "    </tr>\n",
       "    <tr>\n",
       "      <th>5</th>\n",
       "      <td>0.0</td>\n",
       "      <td>0.0</td>\n",
       "      <td>0.0</td>\n",
       "      <td>0.0</td>\n",
       "      <td>0.0</td>\n",
       "      <td>0.0</td>\n",
       "      <td>0.0</td>\n",
       "      <td>0.0</td>\n",
       "      <td>0.0</td>\n",
       "      <td>0.0</td>\n",
       "      <td>...</td>\n",
       "      <td>0.0</td>\n",
       "      <td>0.0</td>\n",
       "      <td>0.0</td>\n",
       "      <td>0.0</td>\n",
       "      <td>0.0</td>\n",
       "      <td>0.0</td>\n",
       "      <td>0.0</td>\n",
       "      <td>0.0</td>\n",
       "      <td>0.0</td>\n",
       "      <td>0.0</td>\n",
       "    </tr>\n",
       "    <tr>\n",
       "      <th>6</th>\n",
       "      <td>0.0</td>\n",
       "      <td>0.0</td>\n",
       "      <td>0.0</td>\n",
       "      <td>0.0</td>\n",
       "      <td>0.0</td>\n",
       "      <td>0.0</td>\n",
       "      <td>0.0</td>\n",
       "      <td>0.0</td>\n",
       "      <td>0.0</td>\n",
       "      <td>0.0</td>\n",
       "      <td>...</td>\n",
       "      <td>0.0</td>\n",
       "      <td>0.0</td>\n",
       "      <td>0.0</td>\n",
       "      <td>0.0</td>\n",
       "      <td>0.0</td>\n",
       "      <td>0.0</td>\n",
       "      <td>0.0</td>\n",
       "      <td>0.0</td>\n",
       "      <td>0.0</td>\n",
       "      <td>0.0</td>\n",
       "    </tr>\n",
       "  </tbody>\n",
       "</table>\n",
       "<p>7 rows × 248 columns</p>\n",
       "</div>"
      ],
      "text/plain": [
       "Fare   0.0000    4.0125    5.0000    6.2375    6.4375    6.4500    6.4958    \\\n",
       "Parch                                                                         \n",
       "0           2.2       0.1       0.1       0.1       0.1       0.1       0.3   \n",
       "1           0.0       0.0       0.0       0.0       0.0       0.0       0.0   \n",
       "2           0.0       0.0       0.0       0.0       0.0       0.0       0.0   \n",
       "3           0.0       0.0       0.0       0.0       0.0       0.0       0.0   \n",
       "4           0.0       0.0       0.0       0.0       0.0       0.0       0.0   \n",
       "5           0.0       0.0       0.0       0.0       0.0       0.0       0.0   \n",
       "6           0.0       0.0       0.0       0.0       0.0       0.0       0.0   \n",
       "\n",
       "Fare   6.7500    6.8583    6.9500    ...  153.4625  164.8667  211.3375  \\\n",
       "Parch                                ...                                 \n",
       "0           0.3       0.1       0.1  ...       0.1       0.0       0.1   \n",
       "1           0.0       0.0       0.0  ...       1.7       0.8       1.7   \n",
       "2           0.0       0.0       0.0  ...       0.0       1.2       0.0   \n",
       "3           0.0       0.0       0.0  ...       0.0       0.0       0.0   \n",
       "4           0.0       0.0       0.0  ...       0.0       0.0       0.0   \n",
       "5           0.0       0.0       0.0  ...       0.0       0.0       0.0   \n",
       "6           0.0       0.0       0.0  ...       0.0       0.0       0.0   \n",
       "\n",
       "Fare   211.5000  221.7792  227.5250  247.5208  262.3750  263.0000  512.3292  \n",
       "Parch                                                                        \n",
       "0           0.0       0.1       0.6       0.0       0.0       0.0       0.3  \n",
       "1           0.0       0.0       0.0       1.7       0.0       0.0       0.8  \n",
       "2           1.2       0.0       0.0       0.0       2.5       3.8       0.0  \n",
       "3           0.0       0.0       0.0       0.0       0.0       0.0       0.0  \n",
       "4           0.0       0.0       0.0       0.0       0.0      25.0       0.0  \n",
       "5           0.0       0.0       0.0       0.0       0.0       0.0       0.0  \n",
       "6           0.0       0.0       0.0       0.0       0.0       0.0       0.0  \n",
       "\n",
       "[7 rows x 248 columns]"
      ]
     },
     "execution_count": 42,
     "metadata": {},
     "output_type": "execute_result"
    },
    {
     "data": {
      "image/png": "[encoded data removed]",
      "text/plain": [
       "<Figure size 1440x1080 with 1 Axes>"
      ]
     },
     "metadata": {
      "needs_background": "light"
     },
     "output_type": "display_data"
    }
   ],
   "source": [
    "# Fare with Parch\n",
    "plt.figure(figsize=(20,15))\n",
    "sns.boxplot(x='Parch', y='Fare', data=df)\n",
    "\n",
    "pd.crosstab(df['Parch'],df['Fare']).apply(lambda r: round((r/r.sum())*100,1), axis =1)"
   ]
  },
  {
   "cell_type": "code",
   "execution_count": 43,
   "id": "89827181",
   "metadata": {},
   "outputs": [
    {
     "data": {
      "text/html": [
       "<div>\n",
       "<style scoped>\n",
       "    .dataframe tbody tr th:only-of-type {\n",
       "        vertical-align: middle;\n",
       "    }\n",
       "\n",
       "    .dataframe tbody tr th {\n",
       "        vertical-align: top;\n",
       "    }\n",
       "\n",
       "    .dataframe thead th {\n",
       "        text-align: right;\n",
       "    }\n",
       "</style>\n",
       "<table border=\"1\" class=\"dataframe\">\n",
       "  <thead>\n",
       "    <tr style=\"text-align: right;\">\n",
       "      <th>Fare</th>\n",
       "      <th>0.0000</th>\n",
       "      <th>4.0125</th>\n",
       "      <th>5.0000</th>\n",
       "      <th>6.2375</th>\n",
       "      <th>6.4375</th>\n",
       "      <th>6.4500</th>\n",
       "      <th>6.4958</th>\n",
       "      <th>6.7500</th>\n",
       "      <th>6.8583</th>\n",
       "      <th>6.9500</th>\n",
       "      <th>...</th>\n",
       "      <th>153.4625</th>\n",
       "      <th>164.8667</th>\n",
       "      <th>211.3375</th>\n",
       "      <th>211.5000</th>\n",
       "      <th>221.7792</th>\n",
       "      <th>227.5250</th>\n",
       "      <th>247.5208</th>\n",
       "      <th>262.3750</th>\n",
       "      <th>263.0000</th>\n",
       "      <th>512.3292</th>\n",
       "    </tr>\n",
       "    <tr>\n",
       "      <th>SibSp</th>\n",
       "      <th></th>\n",
       "      <th></th>\n",
       "      <th></th>\n",
       "      <th></th>\n",
       "      <th></th>\n",
       "      <th></th>\n",
       "      <th></th>\n",
       "      <th></th>\n",
       "      <th></th>\n",
       "      <th></th>\n",
       "      <th></th>\n",
       "      <th></th>\n",
       "      <th></th>\n",
       "      <th></th>\n",
       "      <th></th>\n",
       "      <th></th>\n",
       "      <th></th>\n",
       "      <th></th>\n",
       "      <th></th>\n",
       "      <th></th>\n",
       "      <th></th>\n",
       "    </tr>\n",
       "  </thead>\n",
       "  <tbody>\n",
       "    <tr>\n",
       "      <th>0</th>\n",
       "      <td>2.5</td>\n",
       "      <td>0.2</td>\n",
       "      <td>0.2</td>\n",
       "      <td>0.2</td>\n",
       "      <td>0.2</td>\n",
       "      <td>0.2</td>\n",
       "      <td>0.2</td>\n",
       "      <td>0.3</td>\n",
       "      <td>0.2</td>\n",
       "      <td>0.2</td>\n",
       "      <td>...</td>\n",
       "      <td>0.5</td>\n",
       "      <td>0.2</td>\n",
       "      <td>0.5</td>\n",
       "      <td>0.2</td>\n",
       "      <td>0.2</td>\n",
       "      <td>0.5</td>\n",
       "      <td>0.3</td>\n",
       "      <td>0.0</td>\n",
       "      <td>0.0</td>\n",
       "      <td>0.5</td>\n",
       "    </tr>\n",
       "    <tr>\n",
       "      <th>1</th>\n",
       "      <td>0.0</td>\n",
       "      <td>0.0</td>\n",
       "      <td>0.0</td>\n",
       "      <td>0.0</td>\n",
       "      <td>0.0</td>\n",
       "      <td>0.0</td>\n",
       "      <td>0.5</td>\n",
       "      <td>0.0</td>\n",
       "      <td>0.0</td>\n",
       "      <td>0.0</td>\n",
       "      <td>...</td>\n",
       "      <td>0.0</td>\n",
       "      <td>0.5</td>\n",
       "      <td>0.0</td>\n",
       "      <td>0.0</td>\n",
       "      <td>0.0</td>\n",
       "      <td>0.5</td>\n",
       "      <td>0.0</td>\n",
       "      <td>0.0</td>\n",
       "      <td>0.5</td>\n",
       "      <td>0.0</td>\n",
       "    </tr>\n",
       "    <tr>\n",
       "      <th>2</th>\n",
       "      <td>0.0</td>\n",
       "      <td>0.0</td>\n",
       "      <td>0.0</td>\n",
       "      <td>0.0</td>\n",
       "      <td>0.0</td>\n",
       "      <td>0.0</td>\n",
       "      <td>0.0</td>\n",
       "      <td>0.0</td>\n",
       "      <td>0.0</td>\n",
       "      <td>0.0</td>\n",
       "      <td>...</td>\n",
       "      <td>0.0</td>\n",
       "      <td>0.0</td>\n",
       "      <td>0.0</td>\n",
       "      <td>0.0</td>\n",
       "      <td>0.0</td>\n",
       "      <td>0.0</td>\n",
       "      <td>0.0</td>\n",
       "      <td>7.1</td>\n",
       "      <td>0.0</td>\n",
       "      <td>0.0</td>\n",
       "    </tr>\n",
       "    <tr>\n",
       "      <th>3</th>\n",
       "      <td>0.0</td>\n",
       "      <td>0.0</td>\n",
       "      <td>0.0</td>\n",
       "      <td>0.0</td>\n",
       "      <td>0.0</td>\n",
       "      <td>0.0</td>\n",
       "      <td>0.0</td>\n",
       "      <td>0.0</td>\n",
       "      <td>0.0</td>\n",
       "      <td>0.0</td>\n",
       "      <td>...</td>\n",
       "      <td>0.0</td>\n",
       "      <td>0.0</td>\n",
       "      <td>0.0</td>\n",
       "      <td>0.0</td>\n",
       "      <td>0.0</td>\n",
       "      <td>0.0</td>\n",
       "      <td>0.0</td>\n",
       "      <td>0.0</td>\n",
       "      <td>18.8</td>\n",
       "      <td>0.0</td>\n",
       "    </tr>\n",
       "    <tr>\n",
       "      <th>4</th>\n",
       "      <td>0.0</td>\n",
       "      <td>0.0</td>\n",
       "      <td>0.0</td>\n",
       "      <td>0.0</td>\n",
       "      <td>0.0</td>\n",
       "      <td>0.0</td>\n",
       "      <td>0.0</td>\n",
       "      <td>0.0</td>\n",
       "      <td>0.0</td>\n",
       "      <td>0.0</td>\n",
       "      <td>...</td>\n",
       "      <td>0.0</td>\n",
       "      <td>0.0</td>\n",
       "      <td>0.0</td>\n",
       "      <td>0.0</td>\n",
       "      <td>0.0</td>\n",
       "      <td>0.0</td>\n",
       "      <td>0.0</td>\n",
       "      <td>0.0</td>\n",
       "      <td>0.0</td>\n",
       "      <td>0.0</td>\n",
       "    </tr>\n",
       "    <tr>\n",
       "      <th>5</th>\n",
       "      <td>0.0</td>\n",
       "      <td>0.0</td>\n",
       "      <td>0.0</td>\n",
       "      <td>0.0</td>\n",
       "      <td>0.0</td>\n",
       "      <td>0.0</td>\n",
       "      <td>0.0</td>\n",
       "      <td>0.0</td>\n",
       "      <td>0.0</td>\n",
       "      <td>0.0</td>\n",
       "      <td>...</td>\n",
       "      <td>0.0</td>\n",
       "      <td>0.0</td>\n",
       "      <td>0.0</td>\n",
       "      <td>0.0</td>\n",
       "      <td>0.0</td>\n",
       "      <td>0.0</td>\n",
       "      <td>0.0</td>\n",
       "      <td>0.0</td>\n",
       "      <td>0.0</td>\n",
       "      <td>0.0</td>\n",
       "    </tr>\n",
       "    <tr>\n",
       "      <th>8</th>\n",
       "      <td>0.0</td>\n",
       "      <td>0.0</td>\n",
       "      <td>0.0</td>\n",
       "      <td>0.0</td>\n",
       "      <td>0.0</td>\n",
       "      <td>0.0</td>\n",
       "      <td>0.0</td>\n",
       "      <td>0.0</td>\n",
       "      <td>0.0</td>\n",
       "      <td>0.0</td>\n",
       "      <td>...</td>\n",
       "      <td>0.0</td>\n",
       "      <td>0.0</td>\n",
       "      <td>0.0</td>\n",
       "      <td>0.0</td>\n",
       "      <td>0.0</td>\n",
       "      <td>0.0</td>\n",
       "      <td>0.0</td>\n",
       "      <td>0.0</td>\n",
       "      <td>0.0</td>\n",
       "      <td>0.0</td>\n",
       "    </tr>\n",
       "  </tbody>\n",
       "</table>\n",
       "<p>7 rows × 248 columns</p>\n",
       "</div>"
      ],
      "text/plain": [
       "Fare   0.0000    4.0125    5.0000    6.2375    6.4375    6.4500    6.4958    \\\n",
       "SibSp                                                                         \n",
       "0           2.5       0.2       0.2       0.2       0.2       0.2       0.2   \n",
       "1           0.0       0.0       0.0       0.0       0.0       0.0       0.5   \n",
       "2           0.0       0.0       0.0       0.0       0.0       0.0       0.0   \n",
       "3           0.0       0.0       0.0       0.0       0.0       0.0       0.0   \n",
       "4           0.0       0.0       0.0       0.0       0.0       0.0       0.0   \n",
       "5           0.0       0.0       0.0       0.0       0.0       0.0       0.0   \n",
       "8           0.0       0.0       0.0       0.0       0.0       0.0       0.0   \n",
       "\n",
       "Fare   6.7500    6.8583    6.9500    ...  153.4625  164.8667  211.3375  \\\n",
       "SibSp                                ...                                 \n",
       "0           0.3       0.2       0.2  ...       0.5       0.2       0.5   \n",
       "1           0.0       0.0       0.0  ...       0.0       0.5       0.0   \n",
       "2           0.0       0.0       0.0  ...       0.0       0.0       0.0   \n",
       "3           0.0       0.0       0.0  ...       0.0       0.0       0.0   \n",
       "4           0.0       0.0       0.0  ...       0.0       0.0       0.0   \n",
       "5           0.0       0.0       0.0  ...       0.0       0.0       0.0   \n",
       "8           0.0       0.0       0.0  ...       0.0       0.0       0.0   \n",
       "\n",
       "Fare   211.5000  221.7792  227.5250  247.5208  262.3750  263.0000  512.3292  \n",
       "SibSp                                                                        \n",
       "0           0.2       0.2       0.5       0.3       0.0       0.0       0.5  \n",
       "1           0.0       0.0       0.5       0.0       0.0       0.5       0.0  \n",
       "2           0.0       0.0       0.0       0.0       7.1       0.0       0.0  \n",
       "3           0.0       0.0       0.0       0.0       0.0      18.8       0.0  \n",
       "4           0.0       0.0       0.0       0.0       0.0       0.0       0.0  \n",
       "5           0.0       0.0       0.0       0.0       0.0       0.0       0.0  \n",
       "8           0.0       0.0       0.0       0.0       0.0       0.0       0.0  \n",
       "\n",
       "[7 rows x 248 columns]"
      ]
     },
     "execution_count": 43,
     "metadata": {},
     "output_type": "execute_result"
    },
    {
     "data": {
      "image/png": "[encoded data removed]",
      "text/plain": [
       "<Figure size 1440x1080 with 1 Axes>"
      ]
     },
     "metadata": {
      "needs_background": "light"
     },
     "output_type": "display_data"
    }
   ],
   "source": [
    "# Fare with SibSp\n",
    "plt.figure(figsize=(20,15))\n",
    "sns.boxplot(x='SibSp', y='Fare', data=df)\n",
    "\n",
    "pd.crosstab(df['SibSp'],df['Fare']).apply(lambda r: round((r/r.sum())*100,1), axis =1)"
   ]
  },
  {
   "cell_type": "code",
   "execution_count": 44,
   "id": "9d4d8d86",
   "metadata": {},
   "outputs": [
    {
     "name": "stderr",
     "output_type": "stream",
     "text": [
      "C:\\Users\\DELL\\AppData\\Local\\Temp\\ipykernel_5848\\1147318021.py:3: UserWarning: \n",
      "\n",
      "`distplot` is a deprecated function and will be removed in seaborn v0.14.0.\n",
      "\n",
      "Please adapt your code to use either `displot` (a figure-level function with\n",
      "similar flexibility) or `histplot` (an axes-level function for histograms).\n",
      "\n",
      "For a guide to updating your code to use the new functions, please see\n",
      "https://gist.github.com/mwaskom/de44147ed2974457ad6372750bbe5751\n",
      "\n",
      "  sns.distplot(df[df['Survived']==0]['Age'])\n",
      "C:\\Users\\DELL\\AppData\\Local\\Temp\\ipykernel_5848\\1147318021.py:4: UserWarning: \n",
      "\n",
      "`distplot` is a deprecated function and will be removed in seaborn v0.14.0.\n",
      "\n",
      "Please adapt your code to use either `displot` (a figure-level function with\n",
      "similar flexibility) or `histplot` (an axes-level function for histograms).\n",
      "\n",
      "For a guide to updating your code to use the new functions, please see\n",
      "https://gist.github.com/mwaskom/de44147ed2974457ad6372750bbe5751\n",
      "\n",
      "  sns.distplot(df[df['Survived']==1]['Age'])\n"
     ]
    },
    {
     "data": {
      "text/plain": [
       "<AxesSubplot: xlabel='Age', ylabel='Density'>"
      ]
     },
     "execution_count": 44,
     "metadata": {},
     "output_type": "execute_result"
    },
    {
     "data": {
      "image/png": "[encoded data removed]",
      "text/plain": [
       "<Figure size 1080x432 with 1 Axes>"
      ]
     },
     "metadata": {
      "needs_background": "light"
     },
     "output_type": "display_data"
    }
   ],
   "source": [
    "# Survived with Age\n",
    "plt.figure(figsize=(15,6))\n",
    "sns.distplot(df[df['Survived']==0]['Age'])\n",
    "sns.distplot(df[df['Survived']==1]['Age'])"
   ]
  },
  {
   "cell_type": "code",
   "execution_count": 45,
   "id": "3c24a6dc",
   "metadata": {},
   "outputs": [
    {
     "name": "stderr",
     "output_type": "stream",
     "text": [
      "C:\\Users\\DELL\\AppData\\Local\\Temp\\ipykernel_5848\\1060383329.py:3: UserWarning: \n",
      "\n",
      "`distplot` is a deprecated function and will be removed in seaborn v0.14.0.\n",
      "\n",
      "Please adapt your code to use either `displot` (a figure-level function with\n",
      "similar flexibility) or `histplot` (an axes-level function for histograms).\n",
      "\n",
      "For a guide to updating your code to use the new functions, please see\n",
      "https://gist.github.com/mwaskom/de44147ed2974457ad6372750bbe5751\n",
      "\n",
      "  sns.distplot(df[df['Survived']==0]['Fare'])\n",
      "C:\\Users\\DELL\\AppData\\Local\\Temp\\ipykernel_5848\\1060383329.py:4: UserWarning: \n",
      "\n",
      "`distplot` is a deprecated function and will be removed in seaborn v0.14.0.\n",
      "\n",
      "Please adapt your code to use either `displot` (a figure-level function with\n",
      "similar flexibility) or `histplot` (an axes-level function for histograms).\n",
      "\n",
      "For a guide to updating your code to use the new functions, please see\n",
      "https://gist.github.com/mwaskom/de44147ed2974457ad6372750bbe5751\n",
      "\n",
      "  sns.distplot(df[df['Survived']==1]['Fare'])\n"
     ]
    },
    {
     "data": {
      "text/plain": [
       "<AxesSubplot: xlabel='Fare', ylabel='Density'>"
      ]
     },
     "execution_count": 45,
     "metadata": {},
     "output_type": "execute_result"
    },
    {
     "data": {
      "image/png": "[encoded data removed]",
      "text/plain": [
       "<Figure size 1080x432 with 1 Axes>"
      ]
     },
     "metadata": {
      "needs_background": "light"
     },
     "output_type": "display_data"
    }
   ],
   "source": [
    "# Survived with Fare\n",
    "plt.figure(figsize=(15,6))\n",
    "sns.distplot(df[df['Survived']==0]['Fare'])\n",
    "sns.distplot(df[df['Survived']==1]['Fare'])"
   ]
  },
  {
   "cell_type": "code",
   "execution_count": null,
   "id": "b1ab4c73",
   "metadata": {},
   "outputs": [],
   "source": []
  },
  {
   "cell_type": "code",
   "execution_count": 46,
   "id": "2388b269",
   "metadata": {
    "scrolled": true
   },
   "outputs": [
    {
     "data": {
      "text/html": [
       "<div>\n",
       "<style scoped>\n",
       "    .dataframe tbody tr th:only-of-type {\n",
       "        vertical-align: middle;\n",
       "    }\n",
       "\n",
       "    .dataframe tbody tr th {\n",
       "        vertical-align: top;\n",
       "    }\n",
       "\n",
       "    .dataframe thead th {\n",
       "        text-align: right;\n",
       "    }\n",
       "</style>\n",
       "<table border=\"1\" class=\"dataframe\">\n",
       "  <thead>\n",
       "    <tr style=\"text-align: right;\">\n",
       "      <th></th>\n",
       "      <th>Age</th>\n",
       "      <th>SibSp</th>\n",
       "      <th>Parch</th>\n",
       "      <th>Fare</th>\n",
       "    </tr>\n",
       "  </thead>\n",
       "  <tbody>\n",
       "    <tr>\n",
       "      <th>Age</th>\n",
       "      <td>1.000000</td>\n",
       "      <td>-0.232743</td>\n",
       "      <td>-0.176744</td>\n",
       "      <td>0.093856</td>\n",
       "    </tr>\n",
       "    <tr>\n",
       "      <th>SibSp</th>\n",
       "      <td>-0.232743</td>\n",
       "      <td>1.000000</td>\n",
       "      <td>0.414838</td>\n",
       "      <td>0.159651</td>\n",
       "    </tr>\n",
       "    <tr>\n",
       "      <th>Parch</th>\n",
       "      <td>-0.176744</td>\n",
       "      <td>0.414838</td>\n",
       "      <td>1.000000</td>\n",
       "      <td>0.216225</td>\n",
       "    </tr>\n",
       "    <tr>\n",
       "      <th>Fare</th>\n",
       "      <td>0.093856</td>\n",
       "      <td>0.159651</td>\n",
       "      <td>0.216225</td>\n",
       "      <td>1.000000</td>\n",
       "    </tr>\n",
       "  </tbody>\n",
       "</table>\n",
       "</div>"
      ],
      "text/plain": [
       "            Age     SibSp     Parch      Fare\n",
       "Age    1.000000 -0.232743 -0.176744  0.093856\n",
       "SibSp -0.232743  1.000000  0.414838  0.159651\n",
       "Parch -0.176744  0.414838  1.000000  0.216225\n",
       "Fare   0.093856  0.159651  0.216225  1.000000"
      ]
     },
     "execution_count": 46,
     "metadata": {},
     "output_type": "execute_result"
    }
   ],
   "source": [
    "df[['Survived','Pclass','Age','SibSp','Parch','Fare','Embarked']].corr()"
   ]
  },
  {
   "cell_type": "code",
   "execution_count": 19,
   "id": "85203170",
   "metadata": {},
   "outputs": [
    {
     "data": {
      "text/plain": [
       "<AxesSubplot: title={'center': 'correlation of Numerical Variable including Target variable'}>"
      ]
     },
     "execution_count": 19,
     "metadata": {},
     "output_type": "execute_result"
    },
    {
     "data": {
      "image/png": "[encoded data removed]",
      "text/plain": [
       "<Figure size 432x432 with 2 Axes>"
      ]
     },
     "metadata": {
      "needs_background": "light"
     },
     "output_type": "display_data"
    }
   ],
   "source": [
    "f, ax = plt.subplots(figsize= (6,6))\n",
    "plt.title(\"correlation of Numerical Variable including Target variable\")\n",
    "sns.heatmap(df.corr())"
   ]
  },
  {
   "cell_type": "code",
   "execution_count": 237,
   "id": "091579f3",
   "metadata": {},
   "outputs": [
    {
     "data": {
      "text/plain": [
       "(10.5, 23.0)"
      ]
     },
     "execution_count": 237,
     "metadata": {},
     "output_type": "execute_result"
    }
   ],
   "source": [
    "df[df.Sex =='male'].Fare.median(), df[df.Sex == 'female'].Fare.median()"
   ]
  },
  {
   "cell_type": "code",
   "execution_count": 238,
   "id": "8e268d88",
   "metadata": {},
   "outputs": [
    {
     "data": {
      "text/plain": [
       "(25.523893414211443, 44.47981783439491)"
      ]
     },
     "execution_count": 238,
     "metadata": {},
     "output_type": "execute_result"
    }
   ],
   "source": [
    "df[df.Sex =='male'].Fare.mean(), df[df.Sex == 'female'].Fare.mean()"
   ]
  },
  {
   "cell_type": "code",
   "execution_count": 20,
   "id": "218ceee2",
   "metadata": {},
   "outputs": [],
   "source": [
    "df['family_size']=df['Parch']+df['SibSp']"
   ]
  },
  {
   "cell_type": "code",
   "execution_count": 21,
   "id": "2f5bc1c6",
   "metadata": {},
   "outputs": [
    {
     "data": {
      "text/html": [
       "<div>\n",
       "<style scoped>\n",
       "    .dataframe tbody tr th:only-of-type {\n",
       "        vertical-align: middle;\n",
       "    }\n",
       "\n",
       "    .dataframe tbody tr th {\n",
       "        vertical-align: top;\n",
       "    }\n",
       "\n",
       "    .dataframe thead th {\n",
       "        text-align: right;\n",
       "    }\n",
       "</style>\n",
       "<table border=\"1\" class=\"dataframe\">\n",
       "  <thead>\n",
       "    <tr style=\"text-align: right;\">\n",
       "      <th></th>\n",
       "      <th>PassengerId</th>\n",
       "      <th>Survived</th>\n",
       "      <th>Pclass</th>\n",
       "      <th>Name</th>\n",
       "      <th>Sex</th>\n",
       "      <th>Age</th>\n",
       "      <th>SibSp</th>\n",
       "      <th>Parch</th>\n",
       "      <th>Ticket</th>\n",
       "      <th>Fare</th>\n",
       "      <th>Embarked</th>\n",
       "      <th>family_size</th>\n",
       "    </tr>\n",
       "  </thead>\n",
       "  <tbody>\n",
       "    <tr>\n",
       "      <th>673</th>\n",
       "      <td>674</td>\n",
       "      <td>1</td>\n",
       "      <td>2</td>\n",
       "      <td>Wilhelms, Mr. Charles</td>\n",
       "      <td>male</td>\n",
       "      <td>31</td>\n",
       "      <td>0</td>\n",
       "      <td>0</td>\n",
       "      <td>244270</td>\n",
       "      <td>13.0000</td>\n",
       "      <td>S</td>\n",
       "      <td>0</td>\n",
       "    </tr>\n",
       "    <tr>\n",
       "      <th>90</th>\n",
       "      <td>91</td>\n",
       "      <td>0</td>\n",
       "      <td>3</td>\n",
       "      <td>Christmann, Mr. Emil</td>\n",
       "      <td>male</td>\n",
       "      <td>29</td>\n",
       "      <td>0</td>\n",
       "      <td>0</td>\n",
       "      <td>343276</td>\n",
       "      <td>8.0500</td>\n",
       "      <td>S</td>\n",
       "      <td>0</td>\n",
       "    </tr>\n",
       "    <tr>\n",
       "      <th>335</th>\n",
       "      <td>336</td>\n",
       "      <td>0</td>\n",
       "      <td>3</td>\n",
       "      <td>Denkoff, Mr. Mitto</td>\n",
       "      <td>male</td>\n",
       "      <td>29</td>\n",
       "      <td>0</td>\n",
       "      <td>0</td>\n",
       "      <td>349225</td>\n",
       "      <td>7.8958</td>\n",
       "      <td>S</td>\n",
       "      <td>0</td>\n",
       "    </tr>\n",
       "    <tr>\n",
       "      <th>423</th>\n",
       "      <td>424</td>\n",
       "      <td>0</td>\n",
       "      <td>3</td>\n",
       "      <td>Danbom, Mrs. Ernst Gilbert (Anna Sigrid Maria ...</td>\n",
       "      <td>female</td>\n",
       "      <td>28</td>\n",
       "      <td>1</td>\n",
       "      <td>1</td>\n",
       "      <td>347080</td>\n",
       "      <td>14.4000</td>\n",
       "      <td>S</td>\n",
       "      <td>2</td>\n",
       "    </tr>\n",
       "    <tr>\n",
       "      <th>476</th>\n",
       "      <td>477</td>\n",
       "      <td>0</td>\n",
       "      <td>2</td>\n",
       "      <td>Renouf, Mr. Peter Henry</td>\n",
       "      <td>male</td>\n",
       "      <td>34</td>\n",
       "      <td>1</td>\n",
       "      <td>0</td>\n",
       "      <td>31027</td>\n",
       "      <td>21.0000</td>\n",
       "      <td>S</td>\n",
       "      <td>1</td>\n",
       "    </tr>\n",
       "  </tbody>\n",
       "</table>\n",
       "</div>"
      ],
      "text/plain": [
       "     PassengerId Survived Pclass  \\\n",
       "673          674        1      2   \n",
       "90            91        0      3   \n",
       "335          336        0      3   \n",
       "423          424        0      3   \n",
       "476          477        0      2   \n",
       "\n",
       "                                                  Name     Sex  Age  SibSp  \\\n",
       "673                              Wilhelms, Mr. Charles    male   31      0   \n",
       "90                                Christmann, Mr. Emil    male   29      0   \n",
       "335                                 Denkoff, Mr. Mitto    male   29      0   \n",
       "423  Danbom, Mrs. Ernst Gilbert (Anna Sigrid Maria ...  female   28      1   \n",
       "476                            Renouf, Mr. Peter Henry    male   34      1   \n",
       "\n",
       "     Parch  Ticket     Fare Embarked  family_size  \n",
       "673      0  244270  13.0000        S            0  \n",
       "90       0  343276   8.0500        S            0  \n",
       "335      0  349225   7.8958        S            0  \n",
       "423      1  347080  14.4000        S            2  \n",
       "476      0   31027  21.0000        S            1  "
      ]
     },
     "execution_count": 21,
     "metadata": {},
     "output_type": "execute_result"
    }
   ],
   "source": [
    "df.sample(5)"
   ]
  },
  {
   "cell_type": "code",
   "execution_count": 23,
   "id": "4af20fac",
   "metadata": {},
   "outputs": [],
   "source": [
    "def family_type(number):\n",
    "    if number==0:\n",
    "        return 'Alone'\n",
    "    elif number>0  and number<=4:\n",
    "        return 'Medium'\n",
    "    else:\n",
    "        return'Large'"
   ]
  },
  {
   "cell_type": "code",
   "execution_count": 24,
   "id": "adb15f5a",
   "metadata": {},
   "outputs": [],
   "source": [
    "df['family_type']=df['family_size'].apply(family_type)"
   ]
  },
  {
   "cell_type": "code",
   "execution_count": 25,
   "id": "72a409af",
   "metadata": {},
   "outputs": [
    {
     "data": {
      "text/html": [
       "<div>\n",
       "<style scoped>\n",
       "    .dataframe tbody tr th:only-of-type {\n",
       "        vertical-align: middle;\n",
       "    }\n",
       "\n",
       "    .dataframe tbody tr th {\n",
       "        vertical-align: top;\n",
       "    }\n",
       "\n",
       "    .dataframe thead th {\n",
       "        text-align: right;\n",
       "    }\n",
       "</style>\n",
       "<table border=\"1\" class=\"dataframe\">\n",
       "  <thead>\n",
       "    <tr style=\"text-align: right;\">\n",
       "      <th></th>\n",
       "      <th>PassengerId</th>\n",
       "      <th>Survived</th>\n",
       "      <th>Pclass</th>\n",
       "      <th>Name</th>\n",
       "      <th>Sex</th>\n",
       "      <th>Age</th>\n",
       "      <th>SibSp</th>\n",
       "      <th>Parch</th>\n",
       "      <th>Ticket</th>\n",
       "      <th>Fare</th>\n",
       "      <th>Embarked</th>\n",
       "      <th>family_size</th>\n",
       "      <th>family_type</th>\n",
       "    </tr>\n",
       "  </thead>\n",
       "  <tbody>\n",
       "    <tr>\n",
       "      <th>631</th>\n",
       "      <td>632</td>\n",
       "      <td>0</td>\n",
       "      <td>3</td>\n",
       "      <td>Lundahl, Mr. Johan Svensson</td>\n",
       "      <td>male</td>\n",
       "      <td>51</td>\n",
       "      <td>0</td>\n",
       "      <td>0</td>\n",
       "      <td>347743</td>\n",
       "      <td>7.0542</td>\n",
       "      <td>S</td>\n",
       "      <td>0</td>\n",
       "      <td>Alone</td>\n",
       "    </tr>\n",
       "    <tr>\n",
       "      <th>550</th>\n",
       "      <td>551</td>\n",
       "      <td>1</td>\n",
       "      <td>1</td>\n",
       "      <td>Thayer, Mr. John Borland Jr</td>\n",
       "      <td>male</td>\n",
       "      <td>17</td>\n",
       "      <td>0</td>\n",
       "      <td>2</td>\n",
       "      <td>17421</td>\n",
       "      <td>110.8833</td>\n",
       "      <td>C</td>\n",
       "      <td>2</td>\n",
       "      <td>Medium</td>\n",
       "    </tr>\n",
       "    <tr>\n",
       "      <th>747</th>\n",
       "      <td>748</td>\n",
       "      <td>1</td>\n",
       "      <td>2</td>\n",
       "      <td>Sinkkonen, Miss. Anna</td>\n",
       "      <td>female</td>\n",
       "      <td>30</td>\n",
       "      <td>0</td>\n",
       "      <td>0</td>\n",
       "      <td>250648</td>\n",
       "      <td>13.0000</td>\n",
       "      <td>S</td>\n",
       "      <td>0</td>\n",
       "      <td>Alone</td>\n",
       "    </tr>\n",
       "    <tr>\n",
       "      <th>758</th>\n",
       "      <td>759</td>\n",
       "      <td>0</td>\n",
       "      <td>3</td>\n",
       "      <td>Theobald, Mr. Thomas Leonard</td>\n",
       "      <td>male</td>\n",
       "      <td>34</td>\n",
       "      <td>0</td>\n",
       "      <td>0</td>\n",
       "      <td>363294</td>\n",
       "      <td>8.0500</td>\n",
       "      <td>S</td>\n",
       "      <td>0</td>\n",
       "      <td>Alone</td>\n",
       "    </tr>\n",
       "    <tr>\n",
       "      <th>603</th>\n",
       "      <td>604</td>\n",
       "      <td>0</td>\n",
       "      <td>3</td>\n",
       "      <td>Torber, Mr. Ernst William</td>\n",
       "      <td>male</td>\n",
       "      <td>44</td>\n",
       "      <td>0</td>\n",
       "      <td>0</td>\n",
       "      <td>364511</td>\n",
       "      <td>8.0500</td>\n",
       "      <td>S</td>\n",
       "      <td>0</td>\n",
       "      <td>Alone</td>\n",
       "    </tr>\n",
       "  </tbody>\n",
       "</table>\n",
       "</div>"
      ],
      "text/plain": [
       "     PassengerId Survived Pclass                          Name     Sex  Age  \\\n",
       "631          632        0      3   Lundahl, Mr. Johan Svensson    male   51   \n",
       "550          551        1      1   Thayer, Mr. John Borland Jr    male   17   \n",
       "747          748        1      2         Sinkkonen, Miss. Anna  female   30   \n",
       "758          759        0      3  Theobald, Mr. Thomas Leonard    male   34   \n",
       "603          604        0      3     Torber, Mr. Ernst William    male   44   \n",
       "\n",
       "     SibSp  Parch  Ticket      Fare Embarked  family_size family_type  \n",
       "631      0      0  347743    7.0542        S            0       Alone  \n",
       "550      0      2   17421  110.8833        C            2      Medium  \n",
       "747      0      0  250648   13.0000        S            0       Alone  \n",
       "758      0      0  363294    8.0500        S            0       Alone  \n",
       "603      0      0  364511    8.0500        S            0       Alone  "
      ]
     },
     "execution_count": 25,
     "metadata": {},
     "output_type": "execute_result"
    }
   ],
   "source": [
    "df.sample(5)"
   ]
  },
  {
   "cell_type": "code",
   "execution_count": 29,
   "id": "1a3f994a",
   "metadata": {},
   "outputs": [],
   "source": [
    "df.drop(columns=['SibSp','Parch','family_size'],inplace = True)"
   ]
  },
  {
   "cell_type": "code",
   "execution_count": 30,
   "id": "11e58ad9",
   "metadata": {},
   "outputs": [
    {
     "data": {
      "text/html": [
       "<div>\n",
       "<style scoped>\n",
       "    .dataframe tbody tr th:only-of-type {\n",
       "        vertical-align: middle;\n",
       "    }\n",
       "\n",
       "    .dataframe tbody tr th {\n",
       "        vertical-align: top;\n",
       "    }\n",
       "\n",
       "    .dataframe thead th {\n",
       "        text-align: right;\n",
       "    }\n",
       "</style>\n",
       "<table border=\"1\" class=\"dataframe\">\n",
       "  <thead>\n",
       "    <tr style=\"text-align: right;\">\n",
       "      <th></th>\n",
       "      <th>PassengerId</th>\n",
       "      <th>Survived</th>\n",
       "      <th>Pclass</th>\n",
       "      <th>Name</th>\n",
       "      <th>Sex</th>\n",
       "      <th>Age</th>\n",
       "      <th>Ticket</th>\n",
       "      <th>Fare</th>\n",
       "      <th>Embarked</th>\n",
       "      <th>family_type</th>\n",
       "    </tr>\n",
       "  </thead>\n",
       "  <tbody>\n",
       "    <tr>\n",
       "      <th>476</th>\n",
       "      <td>477</td>\n",
       "      <td>0</td>\n",
       "      <td>2</td>\n",
       "      <td>Renouf, Mr. Peter Henry</td>\n",
       "      <td>male</td>\n",
       "      <td>34</td>\n",
       "      <td>31027</td>\n",
       "      <td>21.0000</td>\n",
       "      <td>S</td>\n",
       "      <td>Medium</td>\n",
       "    </tr>\n",
       "    <tr>\n",
       "      <th>810</th>\n",
       "      <td>811</td>\n",
       "      <td>0</td>\n",
       "      <td>3</td>\n",
       "      <td>Alexander, Mr. William</td>\n",
       "      <td>male</td>\n",
       "      <td>26</td>\n",
       "      <td>3474</td>\n",
       "      <td>7.8875</td>\n",
       "      <td>S</td>\n",
       "      <td>Alone</td>\n",
       "    </tr>\n",
       "    <tr>\n",
       "      <th>235</th>\n",
       "      <td>236</td>\n",
       "      <td>0</td>\n",
       "      <td>3</td>\n",
       "      <td>Harknett, Miss. Alice Phoebe</td>\n",
       "      <td>female</td>\n",
       "      <td>29</td>\n",
       "      <td>W./C. 6609</td>\n",
       "      <td>7.5500</td>\n",
       "      <td>S</td>\n",
       "      <td>Alone</td>\n",
       "    </tr>\n",
       "    <tr>\n",
       "      <th>88</th>\n",
       "      <td>89</td>\n",
       "      <td>1</td>\n",
       "      <td>1</td>\n",
       "      <td>Fortune, Miss. Mabel Helen</td>\n",
       "      <td>female</td>\n",
       "      <td>23</td>\n",
       "      <td>19950</td>\n",
       "      <td>263.0000</td>\n",
       "      <td>S</td>\n",
       "      <td>Large</td>\n",
       "    </tr>\n",
       "    <tr>\n",
       "      <th>760</th>\n",
       "      <td>761</td>\n",
       "      <td>0</td>\n",
       "      <td>3</td>\n",
       "      <td>Garfirth, Mr. John</td>\n",
       "      <td>male</td>\n",
       "      <td>29</td>\n",
       "      <td>358585</td>\n",
       "      <td>14.5000</td>\n",
       "      <td>S</td>\n",
       "      <td>Alone</td>\n",
       "    </tr>\n",
       "  </tbody>\n",
       "</table>\n",
       "</div>"
      ],
      "text/plain": [
       "     PassengerId Survived Pclass                          Name     Sex  Age  \\\n",
       "476          477        0      2       Renouf, Mr. Peter Henry    male   34   \n",
       "810          811        0      3        Alexander, Mr. William    male   26   \n",
       "235          236        0      3  Harknett, Miss. Alice Phoebe  female   29   \n",
       "88            89        1      1    Fortune, Miss. Mabel Helen  female   23   \n",
       "760          761        0      3            Garfirth, Mr. John    male   29   \n",
       "\n",
       "         Ticket      Fare Embarked family_type  \n",
       "476       31027   21.0000        S      Medium  \n",
       "810        3474    7.8875        S       Alone  \n",
       "235  W./C. 6609    7.5500        S       Alone  \n",
       "88        19950  263.0000        S       Large  \n",
       "760      358585   14.5000        S       Alone  "
      ]
     },
     "execution_count": 30,
     "metadata": {},
     "output_type": "execute_result"
    }
   ],
   "source": [
    "df.sample(5)"
   ]
  },
  {
   "cell_type": "code",
   "execution_count": 33,
   "id": "ebb6d892",
   "metadata": {},
   "outputs": [
    {
     "data": {
      "text/html": [
       "<div>\n",
       "<style scoped>\n",
       "    .dataframe tbody tr th:only-of-type {\n",
       "        vertical-align: middle;\n",
       "    }\n",
       "\n",
       "    .dataframe tbody tr th {\n",
       "        vertical-align: top;\n",
       "    }\n",
       "\n",
       "    .dataframe thead th {\n",
       "        text-align: right;\n",
       "    }\n",
       "</style>\n",
       "<table border=\"1\" class=\"dataframe\">\n",
       "  <thead>\n",
       "    <tr style=\"text-align: right;\">\n",
       "      <th>Fare</th>\n",
       "      <th>0.0000</th>\n",
       "      <th>4.0125</th>\n",
       "      <th>5.0000</th>\n",
       "      <th>6.2375</th>\n",
       "      <th>6.4375</th>\n",
       "      <th>6.4500</th>\n",
       "      <th>6.4958</th>\n",
       "      <th>6.7500</th>\n",
       "      <th>6.8583</th>\n",
       "      <th>6.9500</th>\n",
       "      <th>...</th>\n",
       "      <th>153.4625</th>\n",
       "      <th>164.8667</th>\n",
       "      <th>211.3375</th>\n",
       "      <th>211.5000</th>\n",
       "      <th>221.7792</th>\n",
       "      <th>227.5250</th>\n",
       "      <th>247.5208</th>\n",
       "      <th>262.3750</th>\n",
       "      <th>263.0000</th>\n",
       "      <th>512.3292</th>\n",
       "    </tr>\n",
       "    <tr>\n",
       "      <th>family_type</th>\n",
       "      <th></th>\n",
       "      <th></th>\n",
       "      <th></th>\n",
       "      <th></th>\n",
       "      <th></th>\n",
       "      <th></th>\n",
       "      <th></th>\n",
       "      <th></th>\n",
       "      <th></th>\n",
       "      <th></th>\n",
       "      <th></th>\n",
       "      <th></th>\n",
       "      <th></th>\n",
       "      <th></th>\n",
       "      <th></th>\n",
       "      <th></th>\n",
       "      <th></th>\n",
       "      <th></th>\n",
       "      <th></th>\n",
       "      <th></th>\n",
       "      <th></th>\n",
       "    </tr>\n",
       "  </thead>\n",
       "  <tbody>\n",
       "    <tr>\n",
       "      <th>Alone</th>\n",
       "      <td>2.8</td>\n",
       "      <td>0.2</td>\n",
       "      <td>0.2</td>\n",
       "      <td>0.2</td>\n",
       "      <td>0.2</td>\n",
       "      <td>0.2</td>\n",
       "      <td>0.2</td>\n",
       "      <td>0.4</td>\n",
       "      <td>0.2</td>\n",
       "      <td>0.2</td>\n",
       "      <td>...</td>\n",
       "      <td>0.2</td>\n",
       "      <td>0.0</td>\n",
       "      <td>0.2</td>\n",
       "      <td>0.0</td>\n",
       "      <td>0.2</td>\n",
       "      <td>0.6</td>\n",
       "      <td>0.0</td>\n",
       "      <td>0.0</td>\n",
       "      <td>0.0</td>\n",
       "      <td>0.4</td>\n",
       "    </tr>\n",
       "    <tr>\n",
       "      <th>Large</th>\n",
       "      <td>0.0</td>\n",
       "      <td>0.0</td>\n",
       "      <td>0.0</td>\n",
       "      <td>0.0</td>\n",
       "      <td>0.0</td>\n",
       "      <td>0.0</td>\n",
       "      <td>0.0</td>\n",
       "      <td>0.0</td>\n",
       "      <td>0.0</td>\n",
       "      <td>0.0</td>\n",
       "      <td>...</td>\n",
       "      <td>0.0</td>\n",
       "      <td>0.0</td>\n",
       "      <td>0.0</td>\n",
       "      <td>0.0</td>\n",
       "      <td>0.0</td>\n",
       "      <td>0.0</td>\n",
       "      <td>0.0</td>\n",
       "      <td>0.0</td>\n",
       "      <td>8.5</td>\n",
       "      <td>0.0</td>\n",
       "    </tr>\n",
       "    <tr>\n",
       "      <th>Medium</th>\n",
       "      <td>0.0</td>\n",
       "      <td>0.0</td>\n",
       "      <td>0.0</td>\n",
       "      <td>0.0</td>\n",
       "      <td>0.0</td>\n",
       "      <td>0.0</td>\n",
       "      <td>0.3</td>\n",
       "      <td>0.0</td>\n",
       "      <td>0.0</td>\n",
       "      <td>0.0</td>\n",
       "      <td>...</td>\n",
       "      <td>0.7</td>\n",
       "      <td>0.7</td>\n",
       "      <td>0.7</td>\n",
       "      <td>0.3</td>\n",
       "      <td>0.0</td>\n",
       "      <td>0.3</td>\n",
       "      <td>0.7</td>\n",
       "      <td>0.7</td>\n",
       "      <td>0.0</td>\n",
       "      <td>0.3</td>\n",
       "    </tr>\n",
       "  </tbody>\n",
       "</table>\n",
       "<p>3 rows × 248 columns</p>\n",
       "</div>"
      ],
      "text/plain": [
       "Fare         0.0000    4.0125    5.0000    6.2375    6.4375    6.4500    \\\n",
       "family_type                                                               \n",
       "Alone             2.8       0.2       0.2       0.2       0.2       0.2   \n",
       "Large             0.0       0.0       0.0       0.0       0.0       0.0   \n",
       "Medium            0.0       0.0       0.0       0.0       0.0       0.0   \n",
       "\n",
       "Fare         6.4958    6.7500    6.8583    6.9500    ...  153.4625  164.8667  \\\n",
       "family_type                                          ...                       \n",
       "Alone             0.2       0.4       0.2       0.2  ...       0.2       0.0   \n",
       "Large             0.0       0.0       0.0       0.0  ...       0.0       0.0   \n",
       "Medium            0.3       0.0       0.0       0.0  ...       0.7       0.7   \n",
       "\n",
       "Fare         211.3375  211.5000  221.7792  227.5250  247.5208  262.3750  \\\n",
       "family_type                                                               \n",
       "Alone             0.2       0.0       0.2       0.6       0.0       0.0   \n",
       "Large             0.0       0.0       0.0       0.0       0.0       0.0   \n",
       "Medium            0.7       0.3       0.0       0.3       0.7       0.7   \n",
       "\n",
       "Fare         263.0000  512.3292  \n",
       "family_type                      \n",
       "Alone             0.0       0.4  \n",
       "Large             8.5       0.0  \n",
       "Medium            0.0       0.3  \n",
       "\n",
       "[3 rows x 248 columns]"
      ]
     },
     "execution_count": 33,
     "metadata": {},
     "output_type": "execute_result"
    }
   ],
   "source": [
    "pd.crosstab(df['family_type'],df['Fare']).apply(lambda r: round((r/r.sum())*100,1), axis =1)"
   ]
  },
  {
   "cell_type": "code",
   "execution_count": null,
   "id": "541bbf75",
   "metadata": {},
   "outputs": [],
   "source": []
  },
  {
   "cell_type": "markdown",
   "id": "ec2b1686",
   "metadata": {},
   "source": [
    "# Detecting Ouliers"
   ]
  },
  {
   "cell_type": "code",
   "execution_count": 34,
   "id": "3e7e01e5",
   "metadata": {},
   "outputs": [
    {
     "data": {
      "text/plain": [
       "(884, 10)"
      ]
     },
     "execution_count": 34,
     "metadata": {},
     "output_type": "execute_result"
    }
   ],
   "source": [
    "# outliers in age(almost normal)\n",
    "df = df[df['Age']<(df['Age'].mean()+3*df['Age'].std())]\n",
    "df.shape"
   ]
  },
  {
   "cell_type": "code",
   "execution_count": 35,
   "id": "8e3e56e5",
   "metadata": {},
   "outputs": [],
   "source": [
    "# outliers from Fare column\n",
    "Q1=np.percentile(df['Fare'],25)\n",
    "Q3=np.percentile(df['Fare'],75)\n",
    "\n",
    "outlier_low=Q1 - 1.5 * (Q3-Q1)\n",
    "outlier_high=Q3 + 1.5 * (Q3-Q1)\n",
    "\n",
    "df=df[(df['Fare']>outlier_low)&(df['Fare']<outlier_high)]\n"
   ]
  },
  {
   "cell_type": "code",
   "execution_count": 36,
   "id": "5f0602b3",
   "metadata": {},
   "outputs": [
    {
     "name": "stdout",
     "output_type": "stream",
     "text": [
      "-26.70575 65.62344999999999\n"
     ]
    }
   ],
   "source": [
    "print((outlier_low),(outlier_high))"
   ]
  },
  {
   "cell_type": "code",
   "execution_count": 37,
   "id": "df732d79",
   "metadata": {},
   "outputs": [
    {
     "data": {
      "text/plain": [
       "(336.0179599354168,\n",
       " 0.9940800291626861,\n",
       " 404,\n",
       " array([[9.88946684e+00, 6.59297789e-01, 6.59297789e-01, 6.59297789e-01,\n",
       "         6.59297789e-01, 6.59297789e-01, 1.31859558e+00, 1.31859558e+00,\n",
       "         6.59297789e-01, 6.59297789e-01, 1.31859558e+00, 6.59297789e-01,\n",
       "         4.61508453e+00, 1.31859558e+00, 2.63719116e+00, 6.59297789e-01,\n",
       "         7.91157347e+00, 9.88946684e+00, 8.57087126e+00, 6.59297789e-01,\n",
       "         1.97789337e+00, 6.59297789e-01, 2.63719116e+00, 6.59297789e-01,\n",
       "         2.63719116e+00, 6.59297789e-01, 6.59297789e-01, 2.63719116e+00,\n",
       "         1.31859558e+00, 6.59297789e-01, 2.17568270e+01, 9.88946684e+00,\n",
       "         6.59297789e-01, 3.95578674e+00, 6.59297789e-01, 1.31859558e+00,\n",
       "         8.57087126e+00, 6.59297789e-01, 2.63719116e+00, 6.59297789e-01,\n",
       "         2.50533160e+01, 1.18673602e+01, 6.59297789e-01, 2.83498049e+01,\n",
       "         6.59297789e-01, 6.59297789e-01, 6.59297789e-01, 6.59297789e-01,\n",
       "         6.59297789e-01, 6.59297789e-01, 6.59297789e-01, 6.59297789e-01,\n",
       "         6.59297789e-01, 6.59297789e-01, 8.57087126e+00, 6.59297789e-01,\n",
       "         6.59297789e-01, 6.59297789e-01, 1.31859558e+00, 6.59297789e-01,\n",
       "         1.31859558e+00, 1.31859558e+00, 6.59297789e-01, 6.59297789e-01,\n",
       "         5.93368010e+00, 1.31859558e+00, 1.31859558e+00, 6.59297789e-01,\n",
       "         6.59297789e-01, 6.59297789e-01, 6.59297789e-01, 1.31859558e+00,\n",
       "         1.51638492e+01, 6.59297789e-01, 1.97789337e+00, 1.31859558e+00,\n",
       "         2.63719116e+00, 6.59297789e-01, 6.59297789e-01, 6.59297789e-01,\n",
       "         1.97789337e+00, 2.63719116e+00, 6.59297789e-01, 6.59297789e-01,\n",
       "         6.59297789e-01, 2.76905072e+01, 6.59297789e-01, 2.63719116e+00,\n",
       "         6.59297789e-01, 6.59297789e-01, 6.59297789e-01, 6.59297789e-01,\n",
       "         6.59297789e-01, 1.31859558e+00, 4.61508453e+00, 1.97789337e+00,\n",
       "         4.61508453e+00, 6.59297789e-01, 6.59297789e-01, 6.59297789e-01,\n",
       "         6.59297789e-01, 3.29648895e+00, 5.27438231e+00, 6.59297789e-01,\n",
       "         1.31859558e+00, 6.59297789e-01, 2.63719116e+00, 1.31859558e+00,\n",
       "         6.59297789e-01, 5.93368010e+00, 1.31859558e+00, 6.59297789e-01,\n",
       "         1.31859558e+00, 1.97789337e+00, 1.97789337e+00, 1.31859558e+00,\n",
       "         2.63719116e+00, 1.31859558e+00, 1.31859558e+00, 1.31859558e+00,\n",
       "         1.31859558e+00, 1.97789337e+00, 1.31859558e+00, 3.95578674e+00,\n",
       "         2.63719116e+00, 6.59297789e-01, 6.59297789e-01, 1.31859558e+00,\n",
       "         6.59297789e-01, 2.63719116e+00, 1.31859558e+00, 1.31859558e+00,\n",
       "         1.31859558e+00, 5.27438231e+00, 2.63719116e+00, 6.59297789e-01,\n",
       "         6.59297789e-01, 1.31859558e+00, 2.04382315e+01, 3.95578674e+00,\n",
       "         6.59297789e-01, 1.97789337e+00, 6.59297789e-01, 9.88946684e+00,\n",
       "         1.31859558e+00, 3.29648895e+00, 2.63719116e+00, 3.95578674e+00,\n",
       "         6.59297789e-01, 6.59297789e-01, 1.31859558e+00, 3.29648895e+00,\n",
       "         1.97789337e+00, 3.29648895e+00, 1.31859558e+00, 3.29648895e+00,\n",
       "         1.31859558e+00, 1.97789337e+00, 4.61508453e+00, 2.63719116e+00,\n",
       "         6.59297789e-01, 6.59297789e-01, 1.97789337e+00, 6.59297789e-01,\n",
       "         6.59297789e-01, 2.63719116e+00, 6.59297789e-01, 2.63719116e+00,\n",
       "         1.31859558e+00, 1.31859558e+00, 6.59297789e-01, 2.63719116e+00,\n",
       "         6.59297789e-01, 1.31859558e+00, 3.95578674e+00, 6.59297789e-01,\n",
       "         1.97789337e+00, 6.59297789e-01, 3.95578674e+00, 6.59297789e-01,\n",
       "         6.59297789e-01, 6.59297789e-01, 6.59297789e-01, 6.59297789e-01,\n",
       "         6.59297789e-01, 1.31859558e+00, 4.61508453e+00, 1.97789337e+00,\n",
       "         3.29648895e+00, 1.31859558e+00, 6.59297789e-01, 1.31859558e+00,\n",
       "         4.61508453e+00, 1.31859558e+00, 1.31859558e+00, 1.31859558e+00,\n",
       "         6.59297789e-01, 6.59297789e-01, 6.59297789e-01, 6.59297789e-01,\n",
       "         6.59297789e-01, 1.31859558e+00, 5.07000000e+02],\n",
       "        [5.11053316e+00, 3.40702211e-01, 3.40702211e-01, 3.40702211e-01,\n",
       "         3.40702211e-01, 3.40702211e-01, 6.81404421e-01, 6.81404421e-01,\n",
       "         3.40702211e-01, 3.40702211e-01, 6.81404421e-01, 3.40702211e-01,\n",
       "         2.38491547e+00, 6.81404421e-01, 1.36280884e+00, 3.40702211e-01,\n",
       "         4.08842653e+00, 5.11053316e+00, 4.42912874e+00, 3.40702211e-01,\n",
       "         1.02210663e+00, 3.40702211e-01, 1.36280884e+00, 3.40702211e-01,\n",
       "         1.36280884e+00, 3.40702211e-01, 3.40702211e-01, 1.36280884e+00,\n",
       "         6.81404421e-01, 3.40702211e-01, 1.12431730e+01, 5.11053316e+00,\n",
       "         3.40702211e-01, 2.04421326e+00, 3.40702211e-01, 6.81404421e-01,\n",
       "         4.42912874e+00, 3.40702211e-01, 1.36280884e+00, 3.40702211e-01,\n",
       "         1.29466840e+01, 6.13263979e+00, 3.40702211e-01, 1.46501951e+01,\n",
       "         3.40702211e-01, 3.40702211e-01, 3.40702211e-01, 3.40702211e-01,\n",
       "         3.40702211e-01, 3.40702211e-01, 3.40702211e-01, 3.40702211e-01,\n",
       "         3.40702211e-01, 3.40702211e-01, 4.42912874e+00, 3.40702211e-01,\n",
       "         3.40702211e-01, 3.40702211e-01, 6.81404421e-01, 3.40702211e-01,\n",
       "         6.81404421e-01, 6.81404421e-01, 3.40702211e-01, 3.40702211e-01,\n",
       "         3.06631990e+00, 6.81404421e-01, 6.81404421e-01, 3.40702211e-01,\n",
       "         3.40702211e-01, 3.40702211e-01, 3.40702211e-01, 6.81404421e-01,\n",
       "         7.83615085e+00, 3.40702211e-01, 1.02210663e+00, 6.81404421e-01,\n",
       "         1.36280884e+00, 3.40702211e-01, 3.40702211e-01, 3.40702211e-01,\n",
       "         1.02210663e+00, 1.36280884e+00, 3.40702211e-01, 3.40702211e-01,\n",
       "         3.40702211e-01, 1.43094928e+01, 3.40702211e-01, 1.36280884e+00,\n",
       "         3.40702211e-01, 3.40702211e-01, 3.40702211e-01, 3.40702211e-01,\n",
       "         3.40702211e-01, 6.81404421e-01, 2.38491547e+00, 1.02210663e+00,\n",
       "         2.38491547e+00, 3.40702211e-01, 3.40702211e-01, 3.40702211e-01,\n",
       "         3.40702211e-01, 1.70351105e+00, 2.72561769e+00, 3.40702211e-01,\n",
       "         6.81404421e-01, 3.40702211e-01, 1.36280884e+00, 6.81404421e-01,\n",
       "         3.40702211e-01, 3.06631990e+00, 6.81404421e-01, 3.40702211e-01,\n",
       "         6.81404421e-01, 1.02210663e+00, 1.02210663e+00, 6.81404421e-01,\n",
       "         1.36280884e+00, 6.81404421e-01, 6.81404421e-01, 6.81404421e-01,\n",
       "         6.81404421e-01, 1.02210663e+00, 6.81404421e-01, 2.04421326e+00,\n",
       "         1.36280884e+00, 3.40702211e-01, 3.40702211e-01, 6.81404421e-01,\n",
       "         3.40702211e-01, 1.36280884e+00, 6.81404421e-01, 6.81404421e-01,\n",
       "         6.81404421e-01, 2.72561769e+00, 1.36280884e+00, 3.40702211e-01,\n",
       "         3.40702211e-01, 6.81404421e-01, 1.05617685e+01, 2.04421326e+00,\n",
       "         3.40702211e-01, 1.02210663e+00, 3.40702211e-01, 5.11053316e+00,\n",
       "         6.81404421e-01, 1.70351105e+00, 1.36280884e+00, 2.04421326e+00,\n",
       "         3.40702211e-01, 3.40702211e-01, 6.81404421e-01, 1.70351105e+00,\n",
       "         1.02210663e+00, 1.70351105e+00, 6.81404421e-01, 1.70351105e+00,\n",
       "         6.81404421e-01, 1.02210663e+00, 2.38491547e+00, 1.36280884e+00,\n",
       "         3.40702211e-01, 3.40702211e-01, 1.02210663e+00, 3.40702211e-01,\n",
       "         3.40702211e-01, 1.36280884e+00, 3.40702211e-01, 1.36280884e+00,\n",
       "         6.81404421e-01, 6.81404421e-01, 3.40702211e-01, 1.36280884e+00,\n",
       "         3.40702211e-01, 6.81404421e-01, 2.04421326e+00, 3.40702211e-01,\n",
       "         1.02210663e+00, 3.40702211e-01, 2.04421326e+00, 3.40702211e-01,\n",
       "         3.40702211e-01, 3.40702211e-01, 3.40702211e-01, 3.40702211e-01,\n",
       "         3.40702211e-01, 6.81404421e-01, 2.38491547e+00, 1.02210663e+00,\n",
       "         1.70351105e+00, 6.81404421e-01, 3.40702211e-01, 6.81404421e-01,\n",
       "         2.38491547e+00, 6.81404421e-01, 6.81404421e-01, 6.81404421e-01,\n",
       "         3.40702211e-01, 3.40702211e-01, 3.40702211e-01, 3.40702211e-01,\n",
       "         3.40702211e-01, 6.81404421e-01, 2.62000000e+02],\n",
       "        [1.50000000e+01, 1.00000000e+00, 1.00000000e+00, 1.00000000e+00,\n",
       "         1.00000000e+00, 1.00000000e+00, 2.00000000e+00, 2.00000000e+00,\n",
       "         1.00000000e+00, 1.00000000e+00, 2.00000000e+00, 1.00000000e+00,\n",
       "         7.00000000e+00, 2.00000000e+00, 4.00000000e+00, 1.00000000e+00,\n",
       "         1.20000000e+01, 1.50000000e+01, 1.30000000e+01, 1.00000000e+00,\n",
       "         3.00000000e+00, 1.00000000e+00, 4.00000000e+00, 1.00000000e+00,\n",
       "         4.00000000e+00, 1.00000000e+00, 1.00000000e+00, 4.00000000e+00,\n",
       "         2.00000000e+00, 1.00000000e+00, 3.30000000e+01, 1.50000000e+01,\n",
       "         1.00000000e+00, 6.00000000e+00, 1.00000000e+00, 2.00000000e+00,\n",
       "         1.30000000e+01, 1.00000000e+00, 4.00000000e+00, 1.00000000e+00,\n",
       "         3.80000000e+01, 1.80000000e+01, 1.00000000e+00, 4.30000000e+01,\n",
       "         1.00000000e+00, 1.00000000e+00, 1.00000000e+00, 1.00000000e+00,\n",
       "         1.00000000e+00, 1.00000000e+00, 1.00000000e+00, 1.00000000e+00,\n",
       "         1.00000000e+00, 1.00000000e+00, 1.30000000e+01, 1.00000000e+00,\n",
       "         1.00000000e+00, 1.00000000e+00, 2.00000000e+00, 1.00000000e+00,\n",
       "         2.00000000e+00, 2.00000000e+00, 1.00000000e+00, 1.00000000e+00,\n",
       "         9.00000000e+00, 2.00000000e+00, 2.00000000e+00, 1.00000000e+00,\n",
       "         1.00000000e+00, 1.00000000e+00, 1.00000000e+00, 2.00000000e+00,\n",
       "         2.30000000e+01, 1.00000000e+00, 3.00000000e+00, 2.00000000e+00,\n",
       "         4.00000000e+00, 1.00000000e+00, 1.00000000e+00, 1.00000000e+00,\n",
       "         3.00000000e+00, 4.00000000e+00, 1.00000000e+00, 1.00000000e+00,\n",
       "         1.00000000e+00, 4.20000000e+01, 1.00000000e+00, 4.00000000e+00,\n",
       "         1.00000000e+00, 1.00000000e+00, 1.00000000e+00, 1.00000000e+00,\n",
       "         1.00000000e+00, 2.00000000e+00, 7.00000000e+00, 3.00000000e+00,\n",
       "         7.00000000e+00, 1.00000000e+00, 1.00000000e+00, 1.00000000e+00,\n",
       "         1.00000000e+00, 5.00000000e+00, 8.00000000e+00, 1.00000000e+00,\n",
       "         2.00000000e+00, 1.00000000e+00, 4.00000000e+00, 2.00000000e+00,\n",
       "         1.00000000e+00, 9.00000000e+00, 2.00000000e+00, 1.00000000e+00,\n",
       "         2.00000000e+00, 3.00000000e+00, 3.00000000e+00, 2.00000000e+00,\n",
       "         4.00000000e+00, 2.00000000e+00, 2.00000000e+00, 2.00000000e+00,\n",
       "         2.00000000e+00, 3.00000000e+00, 2.00000000e+00, 6.00000000e+00,\n",
       "         4.00000000e+00, 1.00000000e+00, 1.00000000e+00, 2.00000000e+00,\n",
       "         1.00000000e+00, 4.00000000e+00, 2.00000000e+00, 2.00000000e+00,\n",
       "         2.00000000e+00, 8.00000000e+00, 4.00000000e+00, 1.00000000e+00,\n",
       "         1.00000000e+00, 2.00000000e+00, 3.10000000e+01, 6.00000000e+00,\n",
       "         1.00000000e+00, 3.00000000e+00, 1.00000000e+00, 1.50000000e+01,\n",
       "         2.00000000e+00, 5.00000000e+00, 4.00000000e+00, 6.00000000e+00,\n",
       "         1.00000000e+00, 1.00000000e+00, 2.00000000e+00, 5.00000000e+00,\n",
       "         3.00000000e+00, 5.00000000e+00, 2.00000000e+00, 5.00000000e+00,\n",
       "         2.00000000e+00, 3.00000000e+00, 7.00000000e+00, 4.00000000e+00,\n",
       "         1.00000000e+00, 1.00000000e+00, 3.00000000e+00, 1.00000000e+00,\n",
       "         1.00000000e+00, 4.00000000e+00, 1.00000000e+00, 4.00000000e+00,\n",
       "         2.00000000e+00, 2.00000000e+00, 1.00000000e+00, 4.00000000e+00,\n",
       "         1.00000000e+00, 2.00000000e+00, 6.00000000e+00, 1.00000000e+00,\n",
       "         3.00000000e+00, 1.00000000e+00, 6.00000000e+00, 1.00000000e+00,\n",
       "         1.00000000e+00, 1.00000000e+00, 1.00000000e+00, 1.00000000e+00,\n",
       "         1.00000000e+00, 2.00000000e+00, 7.00000000e+00, 3.00000000e+00,\n",
       "         5.00000000e+00, 2.00000000e+00, 1.00000000e+00, 2.00000000e+00,\n",
       "         7.00000000e+00, 2.00000000e+00, 2.00000000e+00, 2.00000000e+00,\n",
       "         1.00000000e+00, 1.00000000e+00, 1.00000000e+00, 1.00000000e+00,\n",
       "         1.00000000e+00, 2.00000000e+00, 7.69000000e+02]]))"
      ]
     },
     "execution_count": 37,
     "metadata": {},
     "output_type": "execute_result"
    }
   ],
   "source": [
    "# Relationship between two independent categorical Variable\n",
    "from scipy.stats import chi2_contingency\n",
    "chisqt = pd.crosstab(df.Survived, df.Fare, margins = True)\n",
    "chi2_contingency(chisqt)"
   ]
  },
  {
   "cell_type": "code",
   "execution_count": 38,
   "id": "3ff33d2c",
   "metadata": {},
   "outputs": [
    {
     "data": {
      "text/html": [
       "<div>\n",
       "<style scoped>\n",
       "    .dataframe tbody tr th:only-of-type {\n",
       "        vertical-align: middle;\n",
       "    }\n",
       "\n",
       "    .dataframe tbody tr th {\n",
       "        vertical-align: top;\n",
       "    }\n",
       "\n",
       "    .dataframe thead th {\n",
       "        text-align: right;\n",
       "    }\n",
       "</style>\n",
       "<table border=\"1\" class=\"dataframe\">\n",
       "  <thead>\n",
       "    <tr style=\"text-align: right;\">\n",
       "      <th>Fare</th>\n",
       "      <th>0.0</th>\n",
       "      <th>4.0125</th>\n",
       "      <th>5.0</th>\n",
       "      <th>6.2375</th>\n",
       "      <th>6.4375</th>\n",
       "      <th>6.45</th>\n",
       "      <th>6.4958</th>\n",
       "      <th>6.75</th>\n",
       "      <th>6.8583</th>\n",
       "      <th>6.95</th>\n",
       "      <th>...</th>\n",
       "      <th>56.9292</th>\n",
       "      <th>57.0</th>\n",
       "      <th>57.9792</th>\n",
       "      <th>59.4</th>\n",
       "      <th>61.175</th>\n",
       "      <th>61.3792</th>\n",
       "      <th>61.9792</th>\n",
       "      <th>63.3583</th>\n",
       "      <th>65.0</th>\n",
       "      <th>All</th>\n",
       "    </tr>\n",
       "    <tr>\n",
       "      <th>Survived</th>\n",
       "      <th></th>\n",
       "      <th></th>\n",
       "      <th></th>\n",
       "      <th></th>\n",
       "      <th></th>\n",
       "      <th></th>\n",
       "      <th></th>\n",
       "      <th></th>\n",
       "      <th></th>\n",
       "      <th></th>\n",
       "      <th></th>\n",
       "      <th></th>\n",
       "      <th></th>\n",
       "      <th></th>\n",
       "      <th></th>\n",
       "      <th></th>\n",
       "      <th></th>\n",
       "      <th></th>\n",
       "      <th></th>\n",
       "      <th></th>\n",
       "      <th></th>\n",
       "    </tr>\n",
       "  </thead>\n",
       "  <tbody>\n",
       "    <tr>\n",
       "      <th>0</th>\n",
       "      <td>14</td>\n",
       "      <td>1</td>\n",
       "      <td>1</td>\n",
       "      <td>1</td>\n",
       "      <td>1</td>\n",
       "      <td>1</td>\n",
       "      <td>2</td>\n",
       "      <td>2</td>\n",
       "      <td>1</td>\n",
       "      <td>1</td>\n",
       "      <td>...</td>\n",
       "      <td>0</td>\n",
       "      <td>0</td>\n",
       "      <td>0</td>\n",
       "      <td>0</td>\n",
       "      <td>1</td>\n",
       "      <td>1</td>\n",
       "      <td>1</td>\n",
       "      <td>0</td>\n",
       "      <td>0</td>\n",
       "      <td>507</td>\n",
       "    </tr>\n",
       "    <tr>\n",
       "      <th>1</th>\n",
       "      <td>1</td>\n",
       "      <td>0</td>\n",
       "      <td>0</td>\n",
       "      <td>0</td>\n",
       "      <td>0</td>\n",
       "      <td>0</td>\n",
       "      <td>0</td>\n",
       "      <td>0</td>\n",
       "      <td>0</td>\n",
       "      <td>0</td>\n",
       "      <td>...</td>\n",
       "      <td>2</td>\n",
       "      <td>2</td>\n",
       "      <td>2</td>\n",
       "      <td>1</td>\n",
       "      <td>0</td>\n",
       "      <td>0</td>\n",
       "      <td>0</td>\n",
       "      <td>1</td>\n",
       "      <td>2</td>\n",
       "      <td>262</td>\n",
       "    </tr>\n",
       "    <tr>\n",
       "      <th>All</th>\n",
       "      <td>15</td>\n",
       "      <td>1</td>\n",
       "      <td>1</td>\n",
       "      <td>1</td>\n",
       "      <td>1</td>\n",
       "      <td>1</td>\n",
       "      <td>2</td>\n",
       "      <td>2</td>\n",
       "      <td>1</td>\n",
       "      <td>1</td>\n",
       "      <td>...</td>\n",
       "      <td>2</td>\n",
       "      <td>2</td>\n",
       "      <td>2</td>\n",
       "      <td>1</td>\n",
       "      <td>1</td>\n",
       "      <td>1</td>\n",
       "      <td>1</td>\n",
       "      <td>1</td>\n",
       "      <td>2</td>\n",
       "      <td>769</td>\n",
       "    </tr>\n",
       "  </tbody>\n",
       "</table>\n",
       "<p>3 rows × 203 columns</p>\n",
       "</div>"
      ],
      "text/plain": [
       "Fare      0.0  4.0125  5.0  6.2375  6.4375  6.45  6.4958  6.75  6.8583  6.95  \\\n",
       "Survived                                                                       \n",
       "0          14       1    1       1       1     1       2     2       1     1   \n",
       "1           1       0    0       0       0     0       0     0       0     0   \n",
       "All        15       1    1       1       1     1       2     2       1     1   \n",
       "\n",
       "Fare      ...  56.9292  57.0  57.9792  59.4  61.175  61.3792  61.9792  \\\n",
       "Survived  ...                                                           \n",
       "0         ...        0     0        0     0       1        1        1   \n",
       "1         ...        2     2        2     1       0        0        0   \n",
       "All       ...        2     2        2     1       1        1        1   \n",
       "\n",
       "Fare      63.3583  65.0  All  \n",
       "Survived                      \n",
       "0               0     0  507  \n",
       "1               1     2  262  \n",
       "All             1     2  769  \n",
       "\n",
       "[3 rows x 203 columns]"
      ]
     },
     "execution_count": 38,
     "metadata": {},
     "output_type": "execute_result"
    }
   ],
   "source": [
    "chisqt"
   ]
  },
  {
   "cell_type": "code",
   "execution_count": null,
   "id": "5d73fc36",
   "metadata": {},
   "outputs": [],
   "source": []
  },
  {
   "cell_type": "code",
   "execution_count": 41,
   "id": "6a72728b",
   "metadata": {},
   "outputs": [
    {
     "data": {
      "text/html": [
       "<div>\n",
       "<style scoped>\n",
       "    .dataframe tbody tr th:only-of-type {\n",
       "        vertical-align: middle;\n",
       "    }\n",
       "\n",
       "    .dataframe tbody tr th {\n",
       "        vertical-align: top;\n",
       "    }\n",
       "\n",
       "    .dataframe thead th {\n",
       "        text-align: right;\n",
       "    }\n",
       "</style>\n",
       "<table border=\"1\" class=\"dataframe\">\n",
       "  <thead>\n",
       "    <tr style=\"text-align: right;\">\n",
       "      <th></th>\n",
       "      <th>PassengerId</th>\n",
       "      <th>Survived</th>\n",
       "      <th>Name</th>\n",
       "      <th>Age</th>\n",
       "      <th>Ticket</th>\n",
       "      <th>Fare</th>\n",
       "      <th>Pclass_2</th>\n",
       "      <th>Pclass_3</th>\n",
       "      <th>Sex_male</th>\n",
       "      <th>Embarked_Q</th>\n",
       "      <th>Embarked_S</th>\n",
       "      <th>family_type_Large</th>\n",
       "      <th>family_type_Medium</th>\n",
       "    </tr>\n",
       "  </thead>\n",
       "  <tbody>\n",
       "    <tr>\n",
       "      <th>0</th>\n",
       "      <td>1</td>\n",
       "      <td>0</td>\n",
       "      <td>Braund, Mr. Owen Harris</td>\n",
       "      <td>22</td>\n",
       "      <td>A/5 21171</td>\n",
       "      <td>7.2500</td>\n",
       "      <td>0</td>\n",
       "      <td>1</td>\n",
       "      <td>1</td>\n",
       "      <td>0</td>\n",
       "      <td>1</td>\n",
       "      <td>0</td>\n",
       "      <td>1</td>\n",
       "    </tr>\n",
       "    <tr>\n",
       "      <th>2</th>\n",
       "      <td>3</td>\n",
       "      <td>1</td>\n",
       "      <td>Heikkinen, Miss. Laina</td>\n",
       "      <td>26</td>\n",
       "      <td>STON/O2. 3101282</td>\n",
       "      <td>7.9250</td>\n",
       "      <td>0</td>\n",
       "      <td>1</td>\n",
       "      <td>0</td>\n",
       "      <td>0</td>\n",
       "      <td>1</td>\n",
       "      <td>0</td>\n",
       "      <td>0</td>\n",
       "    </tr>\n",
       "    <tr>\n",
       "      <th>3</th>\n",
       "      <td>4</td>\n",
       "      <td>1</td>\n",
       "      <td>Futrelle, Mrs. Jacques Heath (Lily May Peel)</td>\n",
       "      <td>35</td>\n",
       "      <td>113803</td>\n",
       "      <td>53.1000</td>\n",
       "      <td>0</td>\n",
       "      <td>0</td>\n",
       "      <td>0</td>\n",
       "      <td>0</td>\n",
       "      <td>1</td>\n",
       "      <td>0</td>\n",
       "      <td>1</td>\n",
       "    </tr>\n",
       "    <tr>\n",
       "      <th>4</th>\n",
       "      <td>5</td>\n",
       "      <td>0</td>\n",
       "      <td>Allen, Mr. William Henry</td>\n",
       "      <td>35</td>\n",
       "      <td>373450</td>\n",
       "      <td>8.0500</td>\n",
       "      <td>0</td>\n",
       "      <td>1</td>\n",
       "      <td>1</td>\n",
       "      <td>0</td>\n",
       "      <td>1</td>\n",
       "      <td>0</td>\n",
       "      <td>0</td>\n",
       "    </tr>\n",
       "    <tr>\n",
       "      <th>5</th>\n",
       "      <td>6</td>\n",
       "      <td>0</td>\n",
       "      <td>Moran, Mr. James</td>\n",
       "      <td>29</td>\n",
       "      <td>330877</td>\n",
       "      <td>8.4583</td>\n",
       "      <td>0</td>\n",
       "      <td>1</td>\n",
       "      <td>1</td>\n",
       "      <td>1</td>\n",
       "      <td>0</td>\n",
       "      <td>0</td>\n",
       "      <td>0</td>\n",
       "    </tr>\n",
       "    <tr>\n",
       "      <th>...</th>\n",
       "      <td>...</td>\n",
       "      <td>...</td>\n",
       "      <td>...</td>\n",
       "      <td>...</td>\n",
       "      <td>...</td>\n",
       "      <td>...</td>\n",
       "      <td>...</td>\n",
       "      <td>...</td>\n",
       "      <td>...</td>\n",
       "      <td>...</td>\n",
       "      <td>...</td>\n",
       "      <td>...</td>\n",
       "      <td>...</td>\n",
       "    </tr>\n",
       "    <tr>\n",
       "      <th>886</th>\n",
       "      <td>887</td>\n",
       "      <td>0</td>\n",
       "      <td>Montvila, Rev. Juozas</td>\n",
       "      <td>27</td>\n",
       "      <td>211536</td>\n",
       "      <td>13.0000</td>\n",
       "      <td>1</td>\n",
       "      <td>0</td>\n",
       "      <td>1</td>\n",
       "      <td>0</td>\n",
       "      <td>1</td>\n",
       "      <td>0</td>\n",
       "      <td>0</td>\n",
       "    </tr>\n",
       "    <tr>\n",
       "      <th>887</th>\n",
       "      <td>888</td>\n",
       "      <td>1</td>\n",
       "      <td>Graham, Miss. Margaret Edith</td>\n",
       "      <td>19</td>\n",
       "      <td>112053</td>\n",
       "      <td>30.0000</td>\n",
       "      <td>0</td>\n",
       "      <td>0</td>\n",
       "      <td>0</td>\n",
       "      <td>0</td>\n",
       "      <td>1</td>\n",
       "      <td>0</td>\n",
       "      <td>0</td>\n",
       "    </tr>\n",
       "    <tr>\n",
       "      <th>888</th>\n",
       "      <td>889</td>\n",
       "      <td>0</td>\n",
       "      <td>Johnston, Miss. Catherine Helen \"Carrie\"</td>\n",
       "      <td>29</td>\n",
       "      <td>W./C. 6607</td>\n",
       "      <td>23.4500</td>\n",
       "      <td>0</td>\n",
       "      <td>1</td>\n",
       "      <td>0</td>\n",
       "      <td>0</td>\n",
       "      <td>1</td>\n",
       "      <td>0</td>\n",
       "      <td>1</td>\n",
       "    </tr>\n",
       "    <tr>\n",
       "      <th>889</th>\n",
       "      <td>890</td>\n",
       "      <td>1</td>\n",
       "      <td>Behr, Mr. Karl Howell</td>\n",
       "      <td>26</td>\n",
       "      <td>111369</td>\n",
       "      <td>30.0000</td>\n",
       "      <td>0</td>\n",
       "      <td>0</td>\n",
       "      <td>1</td>\n",
       "      <td>0</td>\n",
       "      <td>0</td>\n",
       "      <td>0</td>\n",
       "      <td>0</td>\n",
       "    </tr>\n",
       "    <tr>\n",
       "      <th>890</th>\n",
       "      <td>891</td>\n",
       "      <td>0</td>\n",
       "      <td>Dooley, Mr. Patrick</td>\n",
       "      <td>32</td>\n",
       "      <td>370376</td>\n",
       "      <td>7.7500</td>\n",
       "      <td>0</td>\n",
       "      <td>1</td>\n",
       "      <td>1</td>\n",
       "      <td>1</td>\n",
       "      <td>0</td>\n",
       "      <td>0</td>\n",
       "      <td>0</td>\n",
       "    </tr>\n",
       "  </tbody>\n",
       "</table>\n",
       "<p>769 rows × 13 columns</p>\n",
       "</div>"
      ],
      "text/plain": [
       "     PassengerId Survived                                          Name  Age  \\\n",
       "0              1        0                       Braund, Mr. Owen Harris   22   \n",
       "2              3        1                        Heikkinen, Miss. Laina   26   \n",
       "3              4        1  Futrelle, Mrs. Jacques Heath (Lily May Peel)   35   \n",
       "4              5        0                      Allen, Mr. William Henry   35   \n",
       "5              6        0                              Moran, Mr. James   29   \n",
       "..           ...      ...                                           ...  ...   \n",
       "886          887        0                         Montvila, Rev. Juozas   27   \n",
       "887          888        1                  Graham, Miss. Margaret Edith   19   \n",
       "888          889        0      Johnston, Miss. Catherine Helen \"Carrie\"   29   \n",
       "889          890        1                         Behr, Mr. Karl Howell   26   \n",
       "890          891        0                           Dooley, Mr. Patrick   32   \n",
       "\n",
       "               Ticket     Fare  Pclass_2  Pclass_3  Sex_male  Embarked_Q  \\\n",
       "0           A/5 21171   7.2500         0         1         1           0   \n",
       "2    STON/O2. 3101282   7.9250         0         1         0           0   \n",
       "3              113803  53.1000         0         0         0           0   \n",
       "4              373450   8.0500         0         1         1           0   \n",
       "5              330877   8.4583         0         1         1           1   \n",
       "..                ...      ...       ...       ...       ...         ...   \n",
       "886            211536  13.0000         1         0         1           0   \n",
       "887            112053  30.0000         0         0         0           0   \n",
       "888        W./C. 6607  23.4500         0         1         0           0   \n",
       "889            111369  30.0000         0         0         1           0   \n",
       "890            370376   7.7500         0         1         1           1   \n",
       "\n",
       "     Embarked_S  family_type_Large  family_type_Medium  \n",
       "0             1                  0                   1  \n",
       "2             1                  0                   0  \n",
       "3             1                  0                   1  \n",
       "4             1                  0                   0  \n",
       "5             0                  0                   0  \n",
       "..          ...                ...                 ...  \n",
       "886           1                  0                   0  \n",
       "887           1                  0                   0  \n",
       "888           1                  0                   1  \n",
       "889           0                  0                   0  \n",
       "890           0                  0                   0  \n",
       "\n",
       "[769 rows x 13 columns]"
      ]
     },
     "execution_count": 41,
     "metadata": {},
     "output_type": "execute_result"
    }
   ],
   "source": [
    "df.sample(4)\n",
    "\n",
    "pd.get_dummies(data=df, columns=['Pclass','Sex','Embarked','family_type'], drop_first=True)"
   ]
  },
  {
   "cell_type": "code",
   "execution_count": 42,
   "id": "72c808ba",
   "metadata": {},
   "outputs": [],
   "source": [
    "df_new=pd.get_dummies(data=df, columns=['Pclass','Sex','Embarked','family_type'], drop_first=True)"
   ]
  },
  {
   "cell_type": "code",
   "execution_count": null,
   "id": "7be4b0ae",
   "metadata": {},
   "outputs": [],
   "source": []
  },
  {
   "cell_type": "code",
   "execution_count": 43,
   "id": "69be567e",
   "metadata": {},
   "outputs": [
    {
     "data": {
      "text/plain": [
       "<AxesSubplot: >"
      ]
     },
     "execution_count": 43,
     "metadata": {},
     "output_type": "execute_result"
    },
    {
     "data": {
      "image/png": "[encoded data removed]",
      "text/plain": [
       "<Figure size 1080x432 with 2 Axes>"
      ]
     },
     "metadata": {
      "needs_background": "light"
     },
     "output_type": "display_data"
    }
   ],
   "source": [
    "plt.figure(figsize=(15,6))\n",
    "sns.heatmap(df_new.corr(), cmap='summer')"
   ]
  },
  {
   "cell_type": "markdown",
   "id": "5faa7383",
   "metadata": {},
   "source": [
    "## Conclusion\n",
    "#### 1.Chance of the female survival is higher than the male survival\n",
    "#### 2.Somehow, people going to C survived more\n",
    "#### 3.people in the age range of 20 to 40 had a higher chance of not surviving\n",
    "#### 4.Travelling in Pclass 3 was dangerous"
   ]
  },
  {
   "cell_type": "code",
   "execution_count": 44,
   "id": "b04c8a8b",
   "metadata": {},
   "outputs": [
    {
     "data": {
      "text/html": [
       "<div>\n",
       "<style scoped>\n",
       "    .dataframe tbody tr th:only-of-type {\n",
       "        vertical-align: middle;\n",
       "    }\n",
       "\n",
       "    .dataframe tbody tr th {\n",
       "        vertical-align: top;\n",
       "    }\n",
       "\n",
       "    .dataframe thead th {\n",
       "        text-align: right;\n",
       "    }\n",
       "</style>\n",
       "<table border=\"1\" class=\"dataframe\">\n",
       "  <thead>\n",
       "    <tr style=\"text-align: right;\">\n",
       "      <th></th>\n",
       "      <th>Survived</th>\n",
       "      <th>Age</th>\n",
       "      <th>Fare</th>\n",
       "      <th>Pclass_2</th>\n",
       "      <th>Pclass_3</th>\n",
       "      <th>Sex_male</th>\n",
       "      <th>Embarked_Q</th>\n",
       "      <th>Embarked_S</th>\n",
       "      <th>family_type_Large</th>\n",
       "      <th>family_type_Medium</th>\n",
       "    </tr>\n",
       "  </thead>\n",
       "  <tbody>\n",
       "    <tr>\n",
       "      <th>0</th>\n",
       "      <td>0</td>\n",
       "      <td>22</td>\n",
       "      <td>7.2500</td>\n",
       "      <td>0</td>\n",
       "      <td>1</td>\n",
       "      <td>1</td>\n",
       "      <td>0</td>\n",
       "      <td>1</td>\n",
       "      <td>0</td>\n",
       "      <td>1</td>\n",
       "    </tr>\n",
       "    <tr>\n",
       "      <th>2</th>\n",
       "      <td>1</td>\n",
       "      <td>26</td>\n",
       "      <td>7.9250</td>\n",
       "      <td>0</td>\n",
       "      <td>1</td>\n",
       "      <td>0</td>\n",
       "      <td>0</td>\n",
       "      <td>1</td>\n",
       "      <td>0</td>\n",
       "      <td>0</td>\n",
       "    </tr>\n",
       "    <tr>\n",
       "      <th>3</th>\n",
       "      <td>1</td>\n",
       "      <td>35</td>\n",
       "      <td>53.1000</td>\n",
       "      <td>0</td>\n",
       "      <td>0</td>\n",
       "      <td>0</td>\n",
       "      <td>0</td>\n",
       "      <td>1</td>\n",
       "      <td>0</td>\n",
       "      <td>1</td>\n",
       "    </tr>\n",
       "    <tr>\n",
       "      <th>4</th>\n",
       "      <td>0</td>\n",
       "      <td>35</td>\n",
       "      <td>8.0500</td>\n",
       "      <td>0</td>\n",
       "      <td>1</td>\n",
       "      <td>1</td>\n",
       "      <td>0</td>\n",
       "      <td>1</td>\n",
       "      <td>0</td>\n",
       "      <td>0</td>\n",
       "    </tr>\n",
       "    <tr>\n",
       "      <th>5</th>\n",
       "      <td>0</td>\n",
       "      <td>29</td>\n",
       "      <td>8.4583</td>\n",
       "      <td>0</td>\n",
       "      <td>1</td>\n",
       "      <td>1</td>\n",
       "      <td>1</td>\n",
       "      <td>0</td>\n",
       "      <td>0</td>\n",
       "      <td>0</td>\n",
       "    </tr>\n",
       "    <tr>\n",
       "      <th>...</th>\n",
       "      <td>...</td>\n",
       "      <td>...</td>\n",
       "      <td>...</td>\n",
       "      <td>...</td>\n",
       "      <td>...</td>\n",
       "      <td>...</td>\n",
       "      <td>...</td>\n",
       "      <td>...</td>\n",
       "      <td>...</td>\n",
       "      <td>...</td>\n",
       "    </tr>\n",
       "    <tr>\n",
       "      <th>886</th>\n",
       "      <td>0</td>\n",
       "      <td>27</td>\n",
       "      <td>13.0000</td>\n",
       "      <td>1</td>\n",
       "      <td>0</td>\n",
       "      <td>1</td>\n",
       "      <td>0</td>\n",
       "      <td>1</td>\n",
       "      <td>0</td>\n",
       "      <td>0</td>\n",
       "    </tr>\n",
       "    <tr>\n",
       "      <th>887</th>\n",
       "      <td>1</td>\n",
       "      <td>19</td>\n",
       "      <td>30.0000</td>\n",
       "      <td>0</td>\n",
       "      <td>0</td>\n",
       "      <td>0</td>\n",
       "      <td>0</td>\n",
       "      <td>1</td>\n",
       "      <td>0</td>\n",
       "      <td>0</td>\n",
       "    </tr>\n",
       "    <tr>\n",
       "      <th>888</th>\n",
       "      <td>0</td>\n",
       "      <td>29</td>\n",
       "      <td>23.4500</td>\n",
       "      <td>0</td>\n",
       "      <td>1</td>\n",
       "      <td>0</td>\n",
       "      <td>0</td>\n",
       "      <td>1</td>\n",
       "      <td>0</td>\n",
       "      <td>1</td>\n",
       "    </tr>\n",
       "    <tr>\n",
       "      <th>889</th>\n",
       "      <td>1</td>\n",
       "      <td>26</td>\n",
       "      <td>30.0000</td>\n",
       "      <td>0</td>\n",
       "      <td>0</td>\n",
       "      <td>1</td>\n",
       "      <td>0</td>\n",
       "      <td>0</td>\n",
       "      <td>0</td>\n",
       "      <td>0</td>\n",
       "    </tr>\n",
       "    <tr>\n",
       "      <th>890</th>\n",
       "      <td>0</td>\n",
       "      <td>32</td>\n",
       "      <td>7.7500</td>\n",
       "      <td>0</td>\n",
       "      <td>1</td>\n",
       "      <td>1</td>\n",
       "      <td>1</td>\n",
       "      <td>0</td>\n",
       "      <td>0</td>\n",
       "      <td>0</td>\n",
       "    </tr>\n",
       "  </tbody>\n",
       "</table>\n",
       "<p>769 rows × 10 columns</p>\n",
       "</div>"
      ],
      "text/plain": [
       "    Survived  Age     Fare  Pclass_2  Pclass_3  Sex_male  Embarked_Q  \\\n",
       "0          0   22   7.2500         0         1         1           0   \n",
       "2          1   26   7.9250         0         1         0           0   \n",
       "3          1   35  53.1000         0         0         0           0   \n",
       "4          0   35   8.0500         0         1         1           0   \n",
       "5          0   29   8.4583         0         1         1           1   \n",
       "..       ...  ...      ...       ...       ...       ...         ...   \n",
       "886        0   27  13.0000         1         0         1           0   \n",
       "887        1   19  30.0000         0         0         0           0   \n",
       "888        0   29  23.4500         0         1         0           0   \n",
       "889        1   26  30.0000         0         0         1           0   \n",
       "890        0   32   7.7500         0         1         1           1   \n",
       "\n",
       "     Embarked_S  family_type_Large  family_type_Medium  \n",
       "0             1                  0                   1  \n",
       "2             1                  0                   0  \n",
       "3             1                  0                   1  \n",
       "4             1                  0                   0  \n",
       "5             0                  0                   0  \n",
       "..          ...                ...                 ...  \n",
       "886           1                  0                   0  \n",
       "887           1                  0                   0  \n",
       "888           1                  0                   1  \n",
       "889           0                  0                   0  \n",
       "890           0                  0                   0  \n",
       "\n",
       "[769 rows x 10 columns]"
      ]
     },
     "execution_count": 44,
     "metadata": {},
     "output_type": "execute_result"
    }
   ],
   "source": [
    "# dropping passengerid, name, ticket and cabin column\n",
    "ddf= df_new.drop(['PassengerId','Name','Ticket'], axis =1)\n",
    "ddf"
   ]
  },
  {
   "cell_type": "code",
   "execution_count": 175,
   "id": "e530f54c",
   "metadata": {},
   "outputs": [
    {
     "name": "stdout",
     "output_type": "stream",
     "text": [
      "Collecting scikit-learnNote: you may need to restart the kernel to use updated packages.\n",
      "\n",
      "  Downloading scikit_learn-1.2.0-cp310-cp310-win_amd64.whl (8.2 MB)\n",
      "     ---------------------------------------- 8.2/8.2 MB 1.5 MB/s eta 0:00:00\n",
      "Collecting joblib>=1.1.1\n",
      "  Downloading joblib-1.2.0-py3-none-any.whl (297 kB)\n",
      "     ------------------------------------ 298.0/298.0 kB 737.8 kB/s eta 0:00:00\n",
      "Requirement already satisfied: scipy>=1.3.2 in c:\\users\\dell\\appdata\\local\\programs\\python\\python310\\lib\\site-packages (from scikit-learn) (1.9.2)\n",
      "Collecting threadpoolctl>=2.0.0\n",
      "  Downloading threadpoolctl-3.1.0-py3-none-any.whl (14 kB)\n",
      "Requirement already satisfied: numpy>=1.17.3 in c:\\users\\dell\\appdata\\local\\programs\\python\\python310\\lib\\site-packages (from scikit-learn) (1.23.2)\n",
      "Installing collected packages: threadpoolctl, joblib, scikit-learn\n",
      "Successfully installed joblib-1.2.0 scikit-learn-1.2.0 threadpoolctl-3.1.0\n"
     ]
    }
   ],
   "source": [
    "pip install -U scikit-learn"
   ]
  },
  {
   "cell_type": "code",
   "execution_count": 45,
   "id": "49167809",
   "metadata": {},
   "outputs": [],
   "source": [
    "\n",
    "from sklearn.model_selection import train_test_split\n",
    "\n",
    "X = ddf.drop('Fare', axis=1)\n",
    "y = ddf['Fare']\n",
    "\n",
    "# split train data into two parts :  train - 80% and validation - 20%\n",
    "X_train, X_val, y_train, y_val = train_test_split(X, y, test_size=0.2, random_state=2)"
   ]
  },
  {
   "cell_type": "code",
   "execution_count": 46,
   "id": "5401ca26",
   "metadata": {},
   "outputs": [],
   "source": [
    "from sklearn.linear_model import LinearRegression\n",
    "\n",
    "lin_reg = LinearRegression()\n",
    "\n",
    "lin_reg.fit(X_train, y_train)\n",
    "\n",
    "y_pred = lin_reg.predict(X_val)"
   ]
  },
  {
   "cell_type": "code",
   "execution_count": 47,
   "id": "d4b196df",
   "metadata": {},
   "outputs": [
    {
     "data": {
      "text/plain": [
       "71.1344722104286"
      ]
     },
     "execution_count": 47,
     "metadata": {},
     "output_type": "execute_result"
    }
   ],
   "source": [
    "from sklearn.metrics import mean_squared_error\n",
    "mean_squared_error(y_pred, y_val)"
   ]
  },
  {
   "cell_type": "code",
   "execution_count": 48,
   "id": "96402fb2",
   "metadata": {},
   "outputs": [
    {
     "data": {
      "text/plain": [
       "4.438157251146464"
      ]
     },
     "execution_count": 48,
     "metadata": {},
     "output_type": "execute_result"
    }
   ],
   "source": [
    "from sklearn.metrics import mean_absolute_error\n",
    "mean_absolute_error(y_pred, y_val)"
   ]
  },
  {
   "cell_type": "code",
   "execution_count": 49,
   "id": "a8fce5fb",
   "metadata": {},
   "outputs": [
    {
     "data": {
      "text/plain": [
       "(array([  1.7380755 ,   0.02855299, -17.90044571, -23.73722577,\n",
       "          0.96701205,  -1.17741491,  -0.56794692,  25.31554914,\n",
       "         11.64863416]),\n",
       " 30.352538385219837)"
      ]
     },
     "execution_count": 49,
     "metadata": {},
     "output_type": "execute_result"
    }
   ],
   "source": [
    "lin_reg.coef_  , lin_reg.intercept_ "
   ]
  },
  {
   "cell_type": "code",
   "execution_count": 50,
   "id": "a717d36a",
   "metadata": {},
   "outputs": [
    {
     "name": "stdout",
     "output_type": "stream",
     "text": [
      "0.0 65.0\n",
      "6.265934354859127 45.508856588401905\n"
     ]
    }
   ],
   "source": [
    "print(y_val.min(), y_val.max())\n",
    "print(y_pred.min(), y_pred.max())"
   ]
  },
  {
   "cell_type": "code",
   "execution_count": 51,
   "id": "1b340f77",
   "metadata": {},
   "outputs": [
    {
     "name": "stdout",
     "output_type": "stream",
     "text": [
      "260     7.7500\n",
      "824    39.6875\n",
      "512    26.2875\n",
      "771     7.8542\n",
      "440    26.2500\n",
      "        ...   \n",
      "776     7.7500\n",
      "304     8.0500\n",
      "719     7.7750\n",
      "669    52.0000\n",
      "869    11.1333\n",
      "Name: Fare, Length: 154, dtype: float64 \n",
      "\n",
      " [ 7.23294641 32.38703286 33.51758657  8.38492116 26.55573986 45.28110938\n",
      "  7.84241439 32.35847988 14.59302283 34.15366135  7.84241439 26.609733\n",
      "  8.21360323  9.63759587 32.06517373  7.92820614 13.39366457  8.86720912\n",
      " 32.77588559 19.49104856 44.90924385  7.61399049 32.35847988 19.91934337\n",
      "  7.92807336  7.49977854 33.88566258  7.87096738 13.50787652 15.56003489\n",
      " 20.37632396  7.69964946  9.86601977 13.39366457 25.38506737 45.50885659\n",
      "  8.47058012  9.18142476 19.40538959 20.20500603  7.72820244 13.62208847\n",
      " 33.26060969 31.77756488 26.32352643  6.87540234  8.01373232  7.23294641\n",
      " 14.53591686 24.30371058  7.98517933  8.41036131 25.47059355  8.67058382\n",
      " 14.73565499 19.40538959  8.4389143  13.73630042 33.28916267  9.9485659\n",
      "  7.84241439  8.29939498  8.35636817  7.89952037  9.29496002 10.0373377\n",
      " 13.53642951 19.46249557 33.51758657 25.52769952  8.00400986  8.00400986\n",
      " 25.15651068 32.09359394 19.17696569  7.81386141  7.84241439  7.84241439\n",
      " 42.94274445  7.84241439  9.66614886 18.2956126   8.00400986  8.24215622\n",
      " 14.39315192 32.46478278  7.84241439  8.15338442  8.41036131  8.12794427\n",
      "  7.23294641 43.65670192  7.64254348  9.18142476  8.41360693 19.49104856\n",
      "  8.52781888  7.58543751 32.09359394 25.95612712 19.49104856  7.49977854\n",
      "  9.5804899   7.75675543 33.6889045   6.61842545  7.64254348  8.09939128\n",
      " 32.53358733  7.81386141  7.84241439 25.04229873 13.50787652 19.65264402\n",
      " 19.57670752 25.64204426 20.11934707 20.26211201 15.47437592  8.47058012\n",
      " 20.00202228 13.36511158  6.26593435 13.70774743  7.69964946 25.32796139\n",
      " 19.51960154 25.98143449 13.67919445 19.06654327 13.53642951 31.9488828\n",
      "  9.66614886 18.88158057  8.41036131 27.15156307  7.55688452  8.27070921\n",
      " 14.76434076  8.15649726 25.72757044 31.57964016 20.68729399 25.98468011\n",
      " 31.57964016 19.54883123 44.36741378 14.39301914 14.19314822  7.23294641\n",
      "  7.84241439  7.95662634 43.99933777 20.51529937]\n"
     ]
    }
   ],
   "source": [
    "print(y_val, '\\n\\n', y_pred)"
   ]
  },
  {
   "cell_type": "code",
   "execution_count": 52,
   "id": "438401c7",
   "metadata": {},
   "outputs": [
    {
     "data": {
      "text/plain": [
       "0.6450888562342361"
      ]
     },
     "execution_count": 52,
     "metadata": {},
     "output_type": "execute_result"
    }
   ],
   "source": [
    "# R square\n",
    "lin_reg.score(X_val,y_val)"
   ]
  },
  {
   "cell_type": "code",
   "execution_count": 54,
   "id": "42010def",
   "metadata": {},
   "outputs": [
    {
     "data": {
      "text/plain": [
       "0.6229069097488757"
      ]
     },
     "execution_count": 54,
     "metadata": {},
     "output_type": "execute_result"
    }
   ],
   "source": [
    "# for adjusted R square\n",
    "1-(1-lin_reg.score(X_val,y_val))*(len(y_val)-1)/(len(y_val)-X_val.shape[1]-1)"
   ]
  },
  {
   "cell_type": "code",
   "execution_count": 9,
   "id": "4940bc83",
   "metadata": {},
   "outputs": [
    {
     "data": {
      "application/vnd.jupyter.widget-view+json": {
       "model_id": "49243260528340bdb70da120bb02d1dd",
       "version_major": 2,
       "version_minor": 0
      },
      "text/plain": [
       "Summarize dataset:   0%|          | 0/5 [00:00<?, ?it/s]"
      ]
     },
     "metadata": {},
     "output_type": "display_data"
    },
    {
     "data": {
      "application/vnd.jupyter.widget-view+json": {
       "model_id": "feddc3cf78aa4adfbd7343b8dd5cb916",
       "version_major": 2,
       "version_minor": 0
      },
      "text/plain": [
       "Generate report structure:   0%|          | 0/1 [00:00<?, ?it/s]"
      ]
     },
     "metadata": {},
     "output_type": "display_data"
    },
    {
     "data": {
      "application/vnd.jupyter.widget-view+json": {
       "model_id": "e315ca6f288e4090ab37e21f039f2572",
       "version_major": 2,
       "version_minor": 0
      },
      "text/plain": [
       "Render HTML:   0%|          | 0/1 [00:00<?, ?it/s]"
      ]
     },
     "metadata": {},
     "output_type": "display_data"
    },
    {
     "data": {
      "application/vnd.jupyter.widget-view+json": {
       "model_id": "83ca03c6271044bdacbb655744bc4888",
       "version_major": 2,
       "version_minor": 0
      },
      "text/plain": [
       "Export report to file:   0%|          | 0/1 [00:00<?, ?it/s]"
      ]
     },
     "metadata": {},
     "output_type": "display_data"
    }
   ],
   "source": [
    "from pandas_profiling import ProfileReport\n",
    "prof= ProfileReport(df)\n",
    "prof.to_file(output_file='output.html')"
   ]
  },
  {
   "cell_type": "code",
   "execution_count": null,
   "id": "83ef133d",
   "metadata": {},
   "outputs": [],
   "source": []
  }
 ],
 "metadata": {
  "kernelspec": {
   "display_name": "Python 3 (ipykernel)",
   "language": "python",
   "name": "python3"
  },
  "language_info": {
   "codemirror_mode": {
    "name": "ipython",
    "version": 3
   },
   "file_extension": ".py",
   "mimetype": "text/x-python",
   "name": "python",
   "nbconvert_exporter": "python",
   "pygments_lexer": "ipython3",
   "version": "3.11.7"
  }
 },
 "nbformat": 4,
 "nbformat_minor": 5
}
